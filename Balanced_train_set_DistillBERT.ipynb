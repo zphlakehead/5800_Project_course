{
 "cells": [
  {
   "cell_type": "markdown",
   "metadata": {
    "id": "e-AnlVCnetP8"
   },
   "source": [
    "# **log**"
   ]
  },
  {
   "cell_type": "code",
   "execution_count": 1,
   "metadata": {
    "colab": {
     "base_uri": "https://localhost:8080/"
    },
    "id": "JNVYsT-iLTxp",
    "outputId": "f05a831f-b551-4422-fbe7-f6749ef005d6"
   },
   "outputs": [
    {
     "data": {
      "text/plain": [
       "'from google.colab import drive\\ndrive.mount(\"/content/gdrive\")'"
      ]
     },
     "execution_count": 1,
     "metadata": {},
     "output_type": "execute_result"
    }
   ],
   "source": [
    "'''from google.colab import drive\n",
    "drive.mount(\"/content/gdrive\")'''"
   ]
  },
  {
   "cell_type": "markdown",
   "metadata": {
    "id": "iibLSvrIa4nu"
   },
   "source": [
    "# **Prepare**"
   ]
  },
  {
   "cell_type": "code",
   "execution_count": 2,
   "metadata": {
    "colab": {
     "base_uri": "https://localhost:8080/"
    },
    "id": "UbyLQeCxajSS",
    "outputId": "9c9567ad-35e3-4211-a525-6f72b4e4b68d"
   },
   "outputs": [
    {
     "name": "stdout",
     "output_type": "stream",
     "text": [
      "Looking in links: /cvmfs/soft.computecanada.ca/custom/python/wheelhouse/gentoo/avx2, /cvmfs/soft.computecanada.ca/custom/python/wheelhouse/gentoo/generic, /cvmfs/soft.computecanada.ca/custom/python/wheelhouse/generic\n",
      "Requirement already satisfied: transformers in ./jp1/lib/python3.10/site-packages (4.26.0.dev0)\n",
      "Requirement already satisfied: huggingface-hub<1.0,>=0.10.0 in ./jp1/lib/python3.10/site-packages (from transformers) (0.11.1)\n",
      "Requirement already satisfied: regex!=2019.12.17 in ./jp1/lib/python3.10/site-packages (from transformers) (2022.1.18+computecanada)\n",
      "Requirement already satisfied: numpy>=1.17 in ./jp1/lib/python3.10/site-packages (from transformers) (1.23.0+computecanada)\n",
      "Requirement already satisfied: requests in ./jp1/lib/python3.10/site-packages (from transformers) (2.28.1+computecanada)\n",
      "Requirement already satisfied: tqdm>=4.27 in ./jp1/lib/python3.10/site-packages (from transformers) (4.64.1+computecanada)\n",
      "Requirement already satisfied: tokenizers!=0.11.3,<0.14,>=0.11.1 in ./jp1/lib/python3.10/site-packages (from transformers) (0.12.1+computecanada)\n",
      "Requirement already satisfied: pyyaml>=5.1 in ./jp1/lib/python3.10/site-packages (from transformers) (6.0+computecanada)\n",
      "Requirement already satisfied: packaging>=20.0 in ./jp1/lib/python3.10/site-packages (from transformers) (21.3+computecanada)\n",
      "Requirement already satisfied: filelock in ./jp1/lib/python3.10/site-packages (from transformers) (3.8.2)\n",
      "Requirement already satisfied: typing-extensions>=3.7.4.3 in ./jp1/lib/python3.10/site-packages (from huggingface-hub<1.0,>=0.10.0->transformers) (4.4.0+computecanada)\n",
      "Requirement already satisfied: pyparsing!=3.0.5,>=2.0.2 in ./jp1/lib/python3.10/site-packages (from packaging>=20.0->transformers) (3.0.9+computecanada)\n",
      "Requirement already satisfied: charset-normalizer<3,>=2 in ./jp1/lib/python3.10/site-packages (from requests->transformers) (2.1.1+computecanada)\n",
      "Requirement already satisfied: idna<4,>=2.5 in ./jp1/lib/python3.10/site-packages (from requests->transformers) (3.4+computecanada)\n",
      "Requirement already satisfied: certifi>=2017.4.17 in ./jp1/lib/python3.10/site-packages (from requests->transformers) (2022.9.24+computecanada)\n",
      "Requirement already satisfied: urllib3<1.27,>=1.21.1 in ./jp1/lib/python3.10/site-packages (from requests->transformers) (1.26.13+computecanada)\n",
      "Looking in indexes: https://pypi.org/simple, https://download.pytorch.org/whl/cu116\n",
      "Looking in links: /cvmfs/soft.computecanada.ca/custom/python/wheelhouse/gentoo/avx2, /cvmfs/soft.computecanada.ca/custom/python/wheelhouse/gentoo/generic, /cvmfs/soft.computecanada.ca/custom/python/wheelhouse/generic\n",
      "Requirement already satisfied: torch in ./jp1/lib/python3.10/site-packages (1.13.1+computecanada)\n",
      "Requirement already satisfied: torchvision in ./jp1/lib/python3.10/site-packages (0.14.1+cu116)\n",
      "Requirement already satisfied: torchaudio in ./jp1/lib/python3.10/site-packages (0.13.1+cu116)\n",
      "Requirement already satisfied: typing-extensions in ./jp1/lib/python3.10/site-packages (from torch) (4.4.0+computecanada)\n",
      "Requirement already satisfied: numpy in ./jp1/lib/python3.10/site-packages (from torchvision) (1.23.0+computecanada)\n",
      "Requirement already satisfied: pillow!=8.3.*,>=5.3.0 in ./jp1/lib/python3.10/site-packages (from torchvision) (9.2.0+computecanada)\n",
      "Requirement already satisfied: requests in ./jp1/lib/python3.10/site-packages (from torchvision) (2.28.1+computecanada)\n",
      "Requirement already satisfied: charset-normalizer<3,>=2 in ./jp1/lib/python3.10/site-packages (from requests->torchvision) (2.1.1+computecanada)\n",
      "Requirement already satisfied: certifi>=2017.4.17 in ./jp1/lib/python3.10/site-packages (from requests->torchvision) (2022.9.24+computecanada)\n",
      "Requirement already satisfied: idna<4,>=2.5 in ./jp1/lib/python3.10/site-packages (from requests->torchvision) (3.4+computecanada)\n",
      "Requirement already satisfied: urllib3<1.27,>=1.21.1 in ./jp1/lib/python3.10/site-packages (from requests->torchvision) (1.26.13+computecanada)\n",
      "Looking in links: /cvmfs/soft.computecanada.ca/custom/python/wheelhouse/gentoo/avx2, /cvmfs/soft.computecanada.ca/custom/python/wheelhouse/gentoo/generic, /cvmfs/soft.computecanada.ca/custom/python/wheelhouse/generic\n",
      "Requirement already satisfied: nltk in ./jp1/lib/python3.10/site-packages (3.8)\n",
      "Requirement already satisfied: click in ./jp1/lib/python3.10/site-packages (from nltk) (8.1.3+computecanada)\n",
      "Requirement already satisfied: tqdm in ./jp1/lib/python3.10/site-packages (from nltk) (4.64.1+computecanada)\n",
      "Requirement already satisfied: joblib in ./jp1/lib/python3.10/site-packages (from nltk) (1.2.0+computecanada)\n",
      "Requirement already satisfied: regex>=2021.8.3 in ./jp1/lib/python3.10/site-packages (from nltk) (2022.1.18+computecanada)\n",
      "Looking in links: /cvmfs/soft.computecanada.ca/custom/python/wheelhouse/gentoo/avx2, /cvmfs/soft.computecanada.ca/custom/python/wheelhouse/gentoo/generic, /cvmfs/soft.computecanada.ca/custom/python/wheelhouse/generic\n",
      "Requirement already satisfied: Keras-Preprocessing in ./jp1/lib/python3.10/site-packages (1.1.2+computecanada)\n",
      "Requirement already satisfied: numpy>=1.9.1 in ./jp1/lib/python3.10/site-packages (from Keras-Preprocessing) (1.23.0+computecanada)\n",
      "Requirement already satisfied: six>=1.9.0 in ./jp1/lib/python3.10/site-packages (from Keras-Preprocessing) (1.16.0+computecanada)\n"
     ]
    },
    {
     "name": "stderr",
     "output_type": "stream",
     "text": [
      "/project/6001568/zhe8nov1/jp1/lib/python3.10/site-packages/tqdm/auto.py:22: TqdmWarning: IProgress not found. Please update jupyter and ipywidgets. See https://ipywidgets.readthedocs.io/en/stable/user_install.html\n",
      "  from .autonotebook import tqdm as notebook_tqdm\n",
      "2023-01-25 12:50:06.730580: I tensorflow/core/platform/cpu_feature_guard.cc:193] This TensorFlow binary is optimized with oneAPI Deep Neural Network Library (oneDNN) to use the following CPU instructions in performance-critical operations:  AVX2 AVX512F AVX512_VNNI FMA\n",
      "To enable them in other operations, rebuild TensorFlow with the appropriate compiler flags.\n",
      "2023-01-25 12:50:11.448482: I tensorflow/core/util/port.cc:104] oneDNN custom operations are on. You may see slightly different numerical results due to floating-point round-off errors from different computation orders. To turn them off, set the environment variable `TF_ENABLE_ONEDNN_OPTS=0`.\n",
      "2023-01-25 12:50:39.398591: W tensorflow/compiler/xla/stream_executor/platform/default/dso_loader.cc:64] Could not load dynamic library 'libnvinfer.so.7'; dlerror: libnvinfer.so.7: cannot open shared object file: No such file or directory\n",
      "2023-01-25 12:50:39.400357: W tensorflow/compiler/xla/stream_executor/platform/default/dso_loader.cc:64] Could not load dynamic library 'libnvinfer_plugin.so.7'; dlerror: libnvinfer_plugin.so.7: cannot open shared object file: No such file or directory\n",
      "2023-01-25 12:50:39.400398: W tensorflow/compiler/tf2tensorrt/utils/py_utils.cc:38] TF-TRT Warning: Cannot dlopen some TensorRT libraries. If you would like to use Nvidia GPU with TensorRT, please make sure the missing libraries mentioned above are installed properly.\n"
     ]
    }
   ],
   "source": [
    "!pip install transformers\n",
    "!pip3 install torch torchvision torchaudio --extra-index-url https://download.pytorch.org/whl/cu116\n",
    "!pip install nltk\n",
    "!pip install Keras-Preprocessing\n",
    "# Importing the libraries needed\n",
    "import pandas as pd\n",
    "import numpy as np\n",
    "from sklearn.model_selection import train_test_split\n",
    "import os\n",
    "import math\n",
    "import torch\n",
    "import seaborn as sns\n",
    "import transformers\n",
    "import json\n",
    "from tqdm import tqdm\n",
    "from torch.utils.data import Dataset, DataLoader\n",
    "from transformers import RobertaModel, RobertaTokenizer\n",
    "\n",
    "import warnings\n",
    "warnings.filterwarnings('ignore')\n",
    "import logging\n",
    "logging.getLogger(\"transformers.tokenization_utils_base\").setLevel(logging.ERROR)\n",
    "\n",
    "import matplotlib.pyplot as plt\n",
    "import tensorflow as tf\n",
    "from transformers import BertTokenizer\n",
    "from transformers import DistilBertTokenizer, RobertaTokenizer\n",
    "from tensorflow.keras.optimizers import Adam, SGD\n",
    "from transformers import TFXLNetModel, XLNetTokenizer\n",
    "import nltk\n",
    "import re\n",
    "from matplotlib import pyplot as plt\n",
    "from sklearn.metrics import accuracy_score, roc_auc_score, roc_curve\n",
    "from numpy import array\n",
    "from keras_preprocessing.sequence import pad_sequences\n",
    "from keras.models import Sequential\n",
    "from keras.layers.core import Activation, Dropout, Dense\n",
    "from keras.layers import Flatten, LSTM\n",
    "from keras.layers import GlobalMaxPooling1D\n",
    "from keras.models import Model\n",
    "from tensorflow.keras.layers import Embedding\n",
    "from keras.preprocessing.text import Tokenizer\n",
    "from keras.layers import Input\n",
    "from keras.layers import Concatenate\n",
    "from torch.nn import BCEWithLogitsLoss\n",
    "from torch.utils.data import TensorDataset, DataLoader, RandomSampler, SequentialSampler\n",
    "from transformers import AdamW, XLNetTokenizer, XLNetModel, XLNetLMHeadModel, XLNetConfig\n",
    "from tqdm import tqdm, trange\n"
   ]
  },
  {
   "cell_type": "code",
   "execution_count": 3,
   "metadata": {
    "id": "tOwbMmf4al9k"
   },
   "outputs": [],
   "source": [
    "from torch import cuda\n",
    "device = 'cuda' if cuda.is_available() else 'cpu'"
   ]
  },
  {
   "cell_type": "code",
   "execution_count": 4,
   "metadata": {
    "colab": {
     "base_uri": "https://localhost:8080/",
     "height": 35
    },
    "id": "HU7L7PJ_agG2",
    "outputId": "a1e302fb-25ae-4129-a8a2-c87aa6e38472"
   },
   "outputs": [],
   "source": [
    "toxic = pd.read_csv(\"toxic_original_selected.csv\")\n",
    "\n",
    "train = pd.read_csv(\"train.scruples-anecdotes.csv\" ,skip_blank_lines=True)\n",
    "\n",
    "dev =pd.read_csv(\"dev-scruples-anecdotes.csv\", skip_blank_lines=True)\n",
    "\n",
    "test =pd.read_csv(\"test.scruples-anecdotes.csv\", skip_blank_lines=True)\n"
   ]
  },
  {
   "cell_type": "code",
   "execution_count": 5,
   "metadata": {},
   "outputs": [
    {
     "name": "stdout",
     "output_type": "stream",
     "text": [
      "22\n",
      "1\n",
      "4\n"
     ]
    }
   ],
   "source": [
    "print(train['text'].isnull().sum())\n",
    "print(dev['text'].isnull().sum())\n",
    "print(test['text'].isnull().sum())"
   ]
  },
  {
   "cell_type": "code",
   "execution_count": 6,
   "metadata": {},
   "outputs": [],
   "source": [
    "train = train.dropna()\n",
    "dev = dev.dropna()\n",
    "test = test.dropna()"
   ]
  },
  {
   "cell_type": "code",
   "execution_count": 7,
   "metadata": {},
   "outputs": [
    {
     "name": "stdout",
     "output_type": "stream",
     "text": [
      "0\n",
      "0\n",
      "0\n"
     ]
    }
   ],
   "source": [
    "print(train['text'].isnull().sum())\n",
    "print(dev['text'].isnull().sum())\n",
    "print(test['text'].isnull().sum())"
   ]
  },
  {
   "cell_type": "code",
   "execution_count": null,
   "metadata": {},
   "outputs": [],
   "source": []
  },
  {
   "cell_type": "code",
   "execution_count": 8,
   "metadata": {
    "colab": {
     "base_uri": "https://localhost:8080/"
    },
    "id": "bL1Mj1iHc3I1",
    "outputId": "c490366e-8732-4625-8257-aed40d5c2646"
   },
   "outputs": [
    {
     "data": {
      "text/plain": [
       "(26196, 10)"
      ]
     },
     "execution_count": 8,
     "metadata": {},
     "output_type": "execute_result"
    }
   ],
   "source": [
    "train.shape"
   ]
  },
  {
   "cell_type": "code",
   "execution_count": 9,
   "metadata": {
    "colab": {
     "base_uri": "https://localhost:8080/",
     "height": 1000
    },
    "id": "cIiAbWIyigR3",
    "outputId": "5dce72b1-514c-4871-9f9c-19e3f5d4cd5f"
   },
   "outputs": [
    {
     "data": {
      "text/html": [
       "<div>\n",
       "<style scoped>\n",
       "    .dataframe tbody tr th:only-of-type {\n",
       "        vertical-align: middle;\n",
       "    }\n",
       "\n",
       "    .dataframe tbody tr th {\n",
       "        vertical-align: top;\n",
       "    }\n",
       "\n",
       "    .dataframe thead th {\n",
       "        text-align: right;\n",
       "    }\n",
       "</style>\n",
       "<table border=\"1\" class=\"dataframe\">\n",
       "  <thead>\n",
       "    <tr style=\"text-align: right;\">\n",
       "      <th></th>\n",
       "      <th>id</th>\n",
       "      <th>post_id</th>\n",
       "      <th>action</th>\n",
       "      <th>title</th>\n",
       "      <th>text</th>\n",
       "      <th>post_type</th>\n",
       "      <th>label_scores</th>\n",
       "      <th>label</th>\n",
       "      <th>binarized_label_scores</th>\n",
       "      <th>binarized_label</th>\n",
       "    </tr>\n",
       "  </thead>\n",
       "  <tbody>\n",
       "    <tr>\n",
       "      <th>0</th>\n",
       "      <td>yqk9ZSYu3Vd9A6sUBIGPLJ0mTCxcsv74</td>\n",
       "      <td>ar2iqw</td>\n",
       "      <td>{'description': 'hiding my controller', 'prono...</td>\n",
       "      <td>AITA for hiding my controller?</td>\n",
       "      <td>Backstory: So, I got an Xbox one for Christmas...</td>\n",
       "      <td>HISTORICAL</td>\n",
       "      <td>{'AUTHOR': 0, 'OTHER': 22, 'EVERYBODY': 0, 'NO...</td>\n",
       "      <td>4</td>\n",
       "      <td>{'RIGHT': 22, 'WRONG': 0}</td>\n",
       "      <td>RIGHT</td>\n",
       "    </tr>\n",
       "    <tr>\n",
       "      <th>1</th>\n",
       "      <td>xBCLN7LVJBGNAakxDVBy0fOrtpfTE577</td>\n",
       "      <td>aqtrol</td>\n",
       "      <td>{'description': 'ratting out my supervisor', '...</td>\n",
       "      <td>AITA For Ratting Out My Supervisor?</td>\n",
       "      <td>I work with about six other people at might jo...</td>\n",
       "      <td>HISTORICAL</td>\n",
       "      <td>{'AUTHOR': 0, 'OTHER': 5, 'EVERYBODY': 0, 'NOB...</td>\n",
       "      <td>4</td>\n",
       "      <td>{'RIGHT': 5, 'WRONG': 0}</td>\n",
       "      <td>RIGHT</td>\n",
       "    </tr>\n",
       "    <tr>\n",
       "      <th>2</th>\n",
       "      <td>IdwLUU6ucUJfK8pL1Uv82dQpPVvgppO8</td>\n",
       "      <td>b01ajb</td>\n",
       "      <td>{'description': 'commenting that unfamiliar in...</td>\n",
       "      <td>AITA for commenting that unfamiliar indie band...</td>\n",
       "      <td>Context: There was an Instagram post about unp...</td>\n",
       "      <td>HISTORICAL</td>\n",
       "      <td>{'AUTHOR': 3, 'OTHER': 4, 'EVERYBODY': 0, 'NOB...</td>\n",
       "      <td>4</td>\n",
       "      <td>{'RIGHT': 5, 'WRONG': 3}</td>\n",
       "      <td>RIGHT</td>\n",
       "    </tr>\n",
       "    <tr>\n",
       "      <th>3</th>\n",
       "      <td>pbFtHLhjFcEF0MpceVPvk4oGmQeKof8D</td>\n",
       "      <td>a4m4zq</td>\n",
       "      <td>{'description': 'arguing for my friend to surr...</td>\n",
       "      <td>AITA for arguing for my Friend to Surrender in...</td>\n",
       "      <td>Me and my friends spent sometime organizing a ...</td>\n",
       "      <td>HISTORICAL</td>\n",
       "      <td>{'AUTHOR': 5, 'OTHER': 0, 'EVERYBODY': 0, 'NOB...</td>\n",
       "      <td>0</td>\n",
       "      <td>{'RIGHT': 0, 'WRONG': 5}</td>\n",
       "      <td>WRONG</td>\n",
       "    </tr>\n",
       "    <tr>\n",
       "      <th>4</th>\n",
       "      <td>IZzCnvsXj8vBAhArM0gxgALAwrd50yHG</td>\n",
       "      <td>apna7l</td>\n",
       "      <td>{'description': 'being mad at my wife for negl...</td>\n",
       "      <td>AITA for being mad at my wife for neglecting/ ...</td>\n",
       "      <td>A little background. I'm a far from rich guy w...</td>\n",
       "      <td>HISTORICAL</td>\n",
       "      <td>{'AUTHOR': 0, 'OTHER': 5, 'EVERYBODY': 4, 'NOB...</td>\n",
       "      <td>4</td>\n",
       "      <td>{'RIGHT': 5, 'WRONG': 4}</td>\n",
       "      <td>RIGHT</td>\n",
       "    </tr>\n",
       "    <tr>\n",
       "      <th>...</th>\n",
       "      <td>...</td>\n",
       "      <td>...</td>\n",
       "      <td>...</td>\n",
       "      <td>...</td>\n",
       "      <td>...</td>\n",
       "      <td>...</td>\n",
       "      <td>...</td>\n",
       "      <td>...</td>\n",
       "      <td>...</td>\n",
       "      <td>...</td>\n",
       "    </tr>\n",
       "    <tr>\n",
       "      <th>27761</th>\n",
       "      <td>MsxMg8eUAk7L2DuE1AT4IlwMzXZ90rUP</td>\n",
       "      <td>amjxh1</td>\n",
       "      <td>{'description': 'getting mad at my girlfriend ...</td>\n",
       "      <td>AITA for getting mad at my girlfriend for dism...</td>\n",
       "      <td>So a bit of background info. My girlfriend has...</td>\n",
       "      <td>HISTORICAL</td>\n",
       "      <td>{'AUTHOR': 0, 'OTHER': 1, 'EVERYBODY': 1, 'NOB...</td>\n",
       "      <td>4</td>\n",
       "      <td>{'RIGHT': 1, 'WRONG': 1}</td>\n",
       "      <td>RIGHT</td>\n",
       "    </tr>\n",
       "    <tr>\n",
       "      <th>27762</th>\n",
       "      <td>OYJdH0Swn7PxoOD3XfKdOtotoHLgMRvN</td>\n",
       "      <td>amuw37</td>\n",
       "      <td>{'description': \"feeling shitty my best friend...</td>\n",
       "      <td>AITA for feeling shitty my best friend didn’t ...</td>\n",
       "      <td>Context:\\n\\nI’ve been best friends with this g...</td>\n",
       "      <td>HISTORICAL</td>\n",
       "      <td>{'AUTHOR': 0, 'OTHER': 1, 'EVERYBODY': 0, 'NOB...</td>\n",
       "      <td>4</td>\n",
       "      <td>{'RIGHT': 2, 'WRONG': 0}</td>\n",
       "      <td>RIGHT</td>\n",
       "    </tr>\n",
       "    <tr>\n",
       "      <th>27763</th>\n",
       "      <td>XOamt7UoD9nOsnQjNUWfsKx4jdGV708h</td>\n",
       "      <td>ajta6b</td>\n",
       "      <td>{'description': 'commenting on how my gf and h...</td>\n",
       "      <td>AITA for commenting on how my gf and her mum a...</td>\n",
       "      <td>So me (19M) and my gf’s (18F) relationship has...</td>\n",
       "      <td>HISTORICAL</td>\n",
       "      <td>{'AUTHOR': 1, 'OTHER': 1, 'EVERYBODY': 0, 'NOB...</td>\n",
       "      <td>0</td>\n",
       "      <td>{'RIGHT': 2, 'WRONG': 1}</td>\n",
       "      <td>RIGHT</td>\n",
       "    </tr>\n",
       "    <tr>\n",
       "      <th>27764</th>\n",
       "      <td>FJ2u1Tojs9VtXH52bb1iLBAdP6WYn3Yt</td>\n",
       "      <td>b0cdwc</td>\n",
       "      <td>{'description': 'missing out on family events ...</td>\n",
       "      <td>AITA for missing out on family events to work ...</td>\n",
       "      <td>A little info, I’m an Early College student, f...</td>\n",
       "      <td>HISTORICAL</td>\n",
       "      <td>{'AUTHOR': 1, 'OTHER': 1, 'EVERYBODY': 0, 'NOB...</td>\n",
       "      <td>3</td>\n",
       "      <td>{'RIGHT': 3, 'WRONG': 1}</td>\n",
       "      <td>RIGHT</td>\n",
       "    </tr>\n",
       "    <tr>\n",
       "      <th>27765</th>\n",
       "      <td>Au8H2omBvPmcrdz7PUUwedVEO6SfHjkf</td>\n",
       "      <td>a4gy4p</td>\n",
       "      <td>{'description': 'not letting someone get to a ...</td>\n",
       "      <td>AITA for not letting someone get to a car acci...</td>\n",
       "      <td>I was on the way home on a long 2 lane bridge ...</td>\n",
       "      <td>HISTORICAL</td>\n",
       "      <td>{'AUTHOR': 1, 'OTHER': 1, 'EVERYBODY': 0, 'NOB...</td>\n",
       "      <td>0</td>\n",
       "      <td>{'RIGHT': 1, 'WRONG': 1}</td>\n",
       "      <td>RIGHT</td>\n",
       "    </tr>\n",
       "  </tbody>\n",
       "</table>\n",
       "<p>26196 rows × 10 columns</p>\n",
       "</div>"
      ],
      "text/plain": [
       "                                     id post_id  \\\n",
       "0      yqk9ZSYu3Vd9A6sUBIGPLJ0mTCxcsv74  ar2iqw   \n",
       "1      xBCLN7LVJBGNAakxDVBy0fOrtpfTE577  aqtrol   \n",
       "2      IdwLUU6ucUJfK8pL1Uv82dQpPVvgppO8  b01ajb   \n",
       "3      pbFtHLhjFcEF0MpceVPvk4oGmQeKof8D  a4m4zq   \n",
       "4      IZzCnvsXj8vBAhArM0gxgALAwrd50yHG  apna7l   \n",
       "...                                 ...     ...   \n",
       "27761  MsxMg8eUAk7L2DuE1AT4IlwMzXZ90rUP  amjxh1   \n",
       "27762  OYJdH0Swn7PxoOD3XfKdOtotoHLgMRvN  amuw37   \n",
       "27763  XOamt7UoD9nOsnQjNUWfsKx4jdGV708h  ajta6b   \n",
       "27764  FJ2u1Tojs9VtXH52bb1iLBAdP6WYn3Yt  b0cdwc   \n",
       "27765  Au8H2omBvPmcrdz7PUUwedVEO6SfHjkf  a4gy4p   \n",
       "\n",
       "                                                  action  \\\n",
       "0      {'description': 'hiding my controller', 'prono...   \n",
       "1      {'description': 'ratting out my supervisor', '...   \n",
       "2      {'description': 'commenting that unfamiliar in...   \n",
       "3      {'description': 'arguing for my friend to surr...   \n",
       "4      {'description': 'being mad at my wife for negl...   \n",
       "...                                                  ...   \n",
       "27761  {'description': 'getting mad at my girlfriend ...   \n",
       "27762  {'description': \"feeling shitty my best friend...   \n",
       "27763  {'description': 'commenting on how my gf and h...   \n",
       "27764  {'description': 'missing out on family events ...   \n",
       "27765  {'description': 'not letting someone get to a ...   \n",
       "\n",
       "                                                   title  \\\n",
       "0                         AITA for hiding my controller?   \n",
       "1                    AITA For Ratting Out My Supervisor?   \n",
       "2      AITA for commenting that unfamiliar indie band...   \n",
       "3      AITA for arguing for my Friend to Surrender in...   \n",
       "4      AITA for being mad at my wife for neglecting/ ...   \n",
       "...                                                  ...   \n",
       "27761  AITA for getting mad at my girlfriend for dism...   \n",
       "27762  AITA for feeling shitty my best friend didn’t ...   \n",
       "27763  AITA for commenting on how my gf and her mum a...   \n",
       "27764  AITA for missing out on family events to work ...   \n",
       "27765  AITA for not letting someone get to a car acci...   \n",
       "\n",
       "                                                    text   post_type  \\\n",
       "0      Backstory: So, I got an Xbox one for Christmas...  HISTORICAL   \n",
       "1      I work with about six other people at might jo...  HISTORICAL   \n",
       "2      Context: There was an Instagram post about unp...  HISTORICAL   \n",
       "3      Me and my friends spent sometime organizing a ...  HISTORICAL   \n",
       "4      A little background. I'm a far from rich guy w...  HISTORICAL   \n",
       "...                                                  ...         ...   \n",
       "27761  So a bit of background info. My girlfriend has...  HISTORICAL   \n",
       "27762  Context:\\n\\nI’ve been best friends with this g...  HISTORICAL   \n",
       "27763  So me (19M) and my gf’s (18F) relationship has...  HISTORICAL   \n",
       "27764  A little info, I’m an Early College student, f...  HISTORICAL   \n",
       "27765  I was on the way home on a long 2 lane bridge ...  HISTORICAL   \n",
       "\n",
       "                                            label_scores  label  \\\n",
       "0      {'AUTHOR': 0, 'OTHER': 22, 'EVERYBODY': 0, 'NO...      4   \n",
       "1      {'AUTHOR': 0, 'OTHER': 5, 'EVERYBODY': 0, 'NOB...      4   \n",
       "2      {'AUTHOR': 3, 'OTHER': 4, 'EVERYBODY': 0, 'NOB...      4   \n",
       "3      {'AUTHOR': 5, 'OTHER': 0, 'EVERYBODY': 0, 'NOB...      0   \n",
       "4      {'AUTHOR': 0, 'OTHER': 5, 'EVERYBODY': 4, 'NOB...      4   \n",
       "...                                                  ...    ...   \n",
       "27761  {'AUTHOR': 0, 'OTHER': 1, 'EVERYBODY': 1, 'NOB...      4   \n",
       "27762  {'AUTHOR': 0, 'OTHER': 1, 'EVERYBODY': 0, 'NOB...      4   \n",
       "27763  {'AUTHOR': 1, 'OTHER': 1, 'EVERYBODY': 0, 'NOB...      0   \n",
       "27764  {'AUTHOR': 1, 'OTHER': 1, 'EVERYBODY': 0, 'NOB...      3   \n",
       "27765  {'AUTHOR': 1, 'OTHER': 1, 'EVERYBODY': 0, 'NOB...      0   \n",
       "\n",
       "          binarized_label_scores binarized_label  \n",
       "0      {'RIGHT': 22, 'WRONG': 0}           RIGHT  \n",
       "1       {'RIGHT': 5, 'WRONG': 0}           RIGHT  \n",
       "2       {'RIGHT': 5, 'WRONG': 3}           RIGHT  \n",
       "3       {'RIGHT': 0, 'WRONG': 5}           WRONG  \n",
       "4       {'RIGHT': 5, 'WRONG': 4}           RIGHT  \n",
       "...                          ...             ...  \n",
       "27761   {'RIGHT': 1, 'WRONG': 1}           RIGHT  \n",
       "27762   {'RIGHT': 2, 'WRONG': 0}           RIGHT  \n",
       "27763   {'RIGHT': 2, 'WRONG': 1}           RIGHT  \n",
       "27764   {'RIGHT': 3, 'WRONG': 1}           RIGHT  \n",
       "27765   {'RIGHT': 1, 'WRONG': 1}           RIGHT  \n",
       "\n",
       "[26196 rows x 10 columns]"
      ]
     },
     "execution_count": 9,
     "metadata": {},
     "output_type": "execute_result"
    }
   ],
   "source": [
    "train"
   ]
  },
  {
   "cell_type": "code",
   "execution_count": 10,
   "metadata": {
    "id": "gMl9l3G_rqt8"
   },
   "outputs": [],
   "source": [
    "train_df = train[['text', 'binarized_label']]"
   ]
  },
  {
   "cell_type": "code",
   "execution_count": 11,
   "metadata": {
    "id": "HYm_AX236DZ0"
   },
   "outputs": [],
   "source": [
    "dev_df = dev[['text','binarized_label']]"
   ]
  },
  {
   "cell_type": "code",
   "execution_count": 12,
   "metadata": {
    "id": "L637VhuITUWb"
   },
   "outputs": [],
   "source": [
    "test_df =  test[['text','binarized_label']]"
   ]
  },
  {
   "cell_type": "code",
   "execution_count": 13,
   "metadata": {
    "colab": {
     "base_uri": "https://localhost:8080/",
     "height": 424
    },
    "id": "GM3SsTtyvBjo",
    "outputId": "6d4d6f1d-2be1-4b51-eaa4-75e3110583f9"
   },
   "outputs": [
    {
     "data": {
      "text/html": [
       "<div>\n",
       "<style scoped>\n",
       "    .dataframe tbody tr th:only-of-type {\n",
       "        vertical-align: middle;\n",
       "    }\n",
       "\n",
       "    .dataframe tbody tr th {\n",
       "        vertical-align: top;\n",
       "    }\n",
       "\n",
       "    .dataframe thead th {\n",
       "        text-align: right;\n",
       "    }\n",
       "</style>\n",
       "<table border=\"1\" class=\"dataframe\">\n",
       "  <thead>\n",
       "    <tr style=\"text-align: right;\">\n",
       "      <th></th>\n",
       "      <th>text</th>\n",
       "      <th>binarized_label</th>\n",
       "    </tr>\n",
       "  </thead>\n",
       "  <tbody>\n",
       "    <tr>\n",
       "      <th>0</th>\n",
       "      <td>My boyfriend (well just call him M) and I are ...</td>\n",
       "      <td>RIGHT</td>\n",
       "    </tr>\n",
       "    <tr>\n",
       "      <th>2</th>\n",
       "      <td>\\n\\nMy really good friend is getting married....</td>\n",
       "      <td>RIGHT</td>\n",
       "    </tr>\n",
       "    <tr>\n",
       "      <th>3</th>\n",
       "      <td>I've been very lonely for a long time, few fri...</td>\n",
       "      <td>RIGHT</td>\n",
       "    </tr>\n",
       "    <tr>\n",
       "      <th>4</th>\n",
       "      <td>Alt account because friends know my real one. ...</td>\n",
       "      <td>RIGHT</td>\n",
       "    </tr>\n",
       "    <tr>\n",
       "      <th>5</th>\n",
       "      <td>Pretty much was hanging out with two friends. ...</td>\n",
       "      <td>WRONG</td>\n",
       "    </tr>\n",
       "    <tr>\n",
       "      <th>...</th>\n",
       "      <td>...</td>\n",
       "      <td>...</td>\n",
       "    </tr>\n",
       "    <tr>\n",
       "      <th>2494</th>\n",
       "      <td>For reference we're both juniors at a T20 coll...</td>\n",
       "      <td>WRONG</td>\n",
       "    </tr>\n",
       "    <tr>\n",
       "      <th>2495</th>\n",
       "      <td>So this just happened and I'm a little taken a...</td>\n",
       "      <td>WRONG</td>\n",
       "    </tr>\n",
       "    <tr>\n",
       "      <th>2497</th>\n",
       "      <td>So, I've been friends with someone for a few y...</td>\n",
       "      <td>RIGHT</td>\n",
       "    </tr>\n",
       "    <tr>\n",
       "      <th>2498</th>\n",
       "      <td>My first post!\\n\\nNo words were exchanged in t...</td>\n",
       "      <td>RIGHT</td>\n",
       "    </tr>\n",
       "    <tr>\n",
       "      <th>2499</th>\n",
       "      <td>Background info: I’m in college and my dorm is...</td>\n",
       "      <td>WRONG</td>\n",
       "    </tr>\n",
       "  </tbody>\n",
       "</table>\n",
       "<p>2343 rows × 2 columns</p>\n",
       "</div>"
      ],
      "text/plain": [
       "                                                   text binarized_label\n",
       "0     My boyfriend (well just call him M) and I are ...           RIGHT\n",
       "2      \\n\\nMy really good friend is getting married....           RIGHT\n",
       "3     I've been very lonely for a long time, few fri...           RIGHT\n",
       "4     Alt account because friends know my real one. ...           RIGHT\n",
       "5     Pretty much was hanging out with two friends. ...           WRONG\n",
       "...                                                 ...             ...\n",
       "2494  For reference we're both juniors at a T20 coll...           WRONG\n",
       "2495  So this just happened and I'm a little taken a...           WRONG\n",
       "2497  So, I've been friends with someone for a few y...           RIGHT\n",
       "2498  My first post!\\n\\nNo words were exchanged in t...           RIGHT\n",
       "2499  Background info: I’m in college and my dorm is...           WRONG\n",
       "\n",
       "[2343 rows x 2 columns]"
      ]
     },
     "execution_count": 13,
     "metadata": {},
     "output_type": "execute_result"
    }
   ],
   "source": [
    "dev_df"
   ]
  },
  {
   "cell_type": "code",
   "execution_count": 14,
   "metadata": {
    "id": "Bkb7_CaVuS6G"
   },
   "outputs": [],
   "source": [
    "from sklearn import preprocessing\n",
    "from sklearn.preprocessing import OneHotEncoder\n",
    "\n",
    "label_encoder = preprocessing.LabelEncoder()\n",
    "\n",
    "train_df['num_binarized_label']= label_encoder.fit_transform(train_df['binarized_label'])\n",
    "dev_df['num_binarized_label']= label_encoder.fit_transform(dev_df['binarized_label'])\n",
    "test_df['num_binarized_label']= label_encoder.fit_transform(test_df['binarized_label'])\n"
   ]
  },
  {
   "cell_type": "code",
   "execution_count": 15,
   "metadata": {
    "colab": {
     "base_uri": "https://localhost:8080/",
     "height": 424
    },
    "id": "1dkD2FK9vKHq",
    "outputId": "60b4b75b-9866-4fd9-ce1b-808807975b92"
   },
   "outputs": [
    {
     "data": {
      "text/html": [
       "<div>\n",
       "<style scoped>\n",
       "    .dataframe tbody tr th:only-of-type {\n",
       "        vertical-align: middle;\n",
       "    }\n",
       "\n",
       "    .dataframe tbody tr th {\n",
       "        vertical-align: top;\n",
       "    }\n",
       "\n",
       "    .dataframe thead th {\n",
       "        text-align: right;\n",
       "    }\n",
       "</style>\n",
       "<table border=\"1\" class=\"dataframe\">\n",
       "  <thead>\n",
       "    <tr style=\"text-align: right;\">\n",
       "      <th></th>\n",
       "      <th>text</th>\n",
       "      <th>binarized_label</th>\n",
       "      <th>num_binarized_label</th>\n",
       "    </tr>\n",
       "  </thead>\n",
       "  <tbody>\n",
       "    <tr>\n",
       "      <th>0</th>\n",
       "      <td>Backstory: So, I got an Xbox one for Christmas...</td>\n",
       "      <td>RIGHT</td>\n",
       "      <td>0</td>\n",
       "    </tr>\n",
       "    <tr>\n",
       "      <th>1</th>\n",
       "      <td>I work with about six other people at might jo...</td>\n",
       "      <td>RIGHT</td>\n",
       "      <td>0</td>\n",
       "    </tr>\n",
       "    <tr>\n",
       "      <th>2</th>\n",
       "      <td>Context: There was an Instagram post about unp...</td>\n",
       "      <td>RIGHT</td>\n",
       "      <td>0</td>\n",
       "    </tr>\n",
       "    <tr>\n",
       "      <th>3</th>\n",
       "      <td>Me and my friends spent sometime organizing a ...</td>\n",
       "      <td>WRONG</td>\n",
       "      <td>1</td>\n",
       "    </tr>\n",
       "    <tr>\n",
       "      <th>4</th>\n",
       "      <td>A little background. I'm a far from rich guy w...</td>\n",
       "      <td>RIGHT</td>\n",
       "      <td>0</td>\n",
       "    </tr>\n",
       "    <tr>\n",
       "      <th>...</th>\n",
       "      <td>...</td>\n",
       "      <td>...</td>\n",
       "      <td>...</td>\n",
       "    </tr>\n",
       "    <tr>\n",
       "      <th>27761</th>\n",
       "      <td>So a bit of background info. My girlfriend has...</td>\n",
       "      <td>RIGHT</td>\n",
       "      <td>0</td>\n",
       "    </tr>\n",
       "    <tr>\n",
       "      <th>27762</th>\n",
       "      <td>Context:\\n\\nI’ve been best friends with this g...</td>\n",
       "      <td>RIGHT</td>\n",
       "      <td>0</td>\n",
       "    </tr>\n",
       "    <tr>\n",
       "      <th>27763</th>\n",
       "      <td>So me (19M) and my gf’s (18F) relationship has...</td>\n",
       "      <td>RIGHT</td>\n",
       "      <td>0</td>\n",
       "    </tr>\n",
       "    <tr>\n",
       "      <th>27764</th>\n",
       "      <td>A little info, I’m an Early College student, f...</td>\n",
       "      <td>RIGHT</td>\n",
       "      <td>0</td>\n",
       "    </tr>\n",
       "    <tr>\n",
       "      <th>27765</th>\n",
       "      <td>I was on the way home on a long 2 lane bridge ...</td>\n",
       "      <td>RIGHT</td>\n",
       "      <td>0</td>\n",
       "    </tr>\n",
       "  </tbody>\n",
       "</table>\n",
       "<p>26196 rows × 3 columns</p>\n",
       "</div>"
      ],
      "text/plain": [
       "                                                    text binarized_label  \\\n",
       "0      Backstory: So, I got an Xbox one for Christmas...           RIGHT   \n",
       "1      I work with about six other people at might jo...           RIGHT   \n",
       "2      Context: There was an Instagram post about unp...           RIGHT   \n",
       "3      Me and my friends spent sometime organizing a ...           WRONG   \n",
       "4      A little background. I'm a far from rich guy w...           RIGHT   \n",
       "...                                                  ...             ...   \n",
       "27761  So a bit of background info. My girlfriend has...           RIGHT   \n",
       "27762  Context:\\n\\nI’ve been best friends with this g...           RIGHT   \n",
       "27763  So me (19M) and my gf’s (18F) relationship has...           RIGHT   \n",
       "27764  A little info, I’m an Early College student, f...           RIGHT   \n",
       "27765  I was on the way home on a long 2 lane bridge ...           RIGHT   \n",
       "\n",
       "       num_binarized_label  \n",
       "0                        0  \n",
       "1                        0  \n",
       "2                        0  \n",
       "3                        1  \n",
       "4                        0  \n",
       "...                    ...  \n",
       "27761                    0  \n",
       "27762                    0  \n",
       "27763                    0  \n",
       "27764                    0  \n",
       "27765                    0  \n",
       "\n",
       "[26196 rows x 3 columns]"
      ]
     },
     "execution_count": 15,
     "metadata": {},
     "output_type": "execute_result"
    }
   ],
   "source": [
    "train_df"
   ]
  },
  {
   "cell_type": "code",
   "execution_count": 16,
   "metadata": {
    "colab": {
     "base_uri": "https://localhost:8080/",
     "height": 424
    },
    "id": "QExzpQ8u1E1C",
    "outputId": "e73bb28d-9291-474f-c083-937bdd1b17bc"
   },
   "outputs": [
    {
     "data": {
      "text/html": [
       "<div>\n",
       "<style scoped>\n",
       "    .dataframe tbody tr th:only-of-type {\n",
       "        vertical-align: middle;\n",
       "    }\n",
       "\n",
       "    .dataframe tbody tr th {\n",
       "        vertical-align: top;\n",
       "    }\n",
       "\n",
       "    .dataframe thead th {\n",
       "        text-align: right;\n",
       "    }\n",
       "</style>\n",
       "<table border=\"1\" class=\"dataframe\">\n",
       "  <thead>\n",
       "    <tr style=\"text-align: right;\">\n",
       "      <th></th>\n",
       "      <th>text</th>\n",
       "      <th>binarized_label</th>\n",
       "      <th>num_binarized_label</th>\n",
       "    </tr>\n",
       "  </thead>\n",
       "  <tbody>\n",
       "    <tr>\n",
       "      <th>3</th>\n",
       "      <td>Me and my friends spent sometime organizing a ...</td>\n",
       "      <td>WRONG</td>\n",
       "      <td>1</td>\n",
       "    </tr>\n",
       "    <tr>\n",
       "      <th>18</th>\n",
       "      <td>A girl I dated a few years ago and I have rema...</td>\n",
       "      <td>WRONG</td>\n",
       "      <td>1</td>\n",
       "    </tr>\n",
       "    <tr>\n",
       "      <th>22</th>\n",
       "      <td>TLDR at bottom.\\n\\nSo went to a nice dinner wi...</td>\n",
       "      <td>WRONG</td>\n",
       "      <td>1</td>\n",
       "    </tr>\n",
       "    <tr>\n",
       "      <th>27</th>\n",
       "      <td>For some context, I live in a flatshare with t...</td>\n",
       "      <td>WRONG</td>\n",
       "      <td>1</td>\n",
       "    </tr>\n",
       "    <tr>\n",
       "      <th>30</th>\n",
       "      <td>I (24M) have been with my girlfriend(29F) for ...</td>\n",
       "      <td>WRONG</td>\n",
       "      <td>1</td>\n",
       "    </tr>\n",
       "    <tr>\n",
       "      <th>...</th>\n",
       "      <td>...</td>\n",
       "      <td>...</td>\n",
       "      <td>...</td>\n",
       "    </tr>\n",
       "    <tr>\n",
       "      <th>27742</th>\n",
       "      <td>It all started when I gave her the password to...</td>\n",
       "      <td>WRONG</td>\n",
       "      <td>1</td>\n",
       "    </tr>\n",
       "    <tr>\n",
       "      <th>27743</th>\n",
       "      <td>Bit of a backstory, my boyfriend and I began d...</td>\n",
       "      <td>WRONG</td>\n",
       "      <td>1</td>\n",
       "    </tr>\n",
       "    <tr>\n",
       "      <th>27747</th>\n",
       "      <td>I work in a very small team at my company. So ...</td>\n",
       "      <td>WRONG</td>\n",
       "      <td>1</td>\n",
       "    </tr>\n",
       "    <tr>\n",
       "      <th>27751</th>\n",
       "      <td>On Valentine’s Day, my GF and I had a great di...</td>\n",
       "      <td>WRONG</td>\n",
       "      <td>1</td>\n",
       "    </tr>\n",
       "    <tr>\n",
       "      <th>27753</th>\n",
       "      <td>So I have very vivid dreams, and last night wa...</td>\n",
       "      <td>WRONG</td>\n",
       "      <td>1</td>\n",
       "    </tr>\n",
       "  </tbody>\n",
       "</table>\n",
       "<p>5738 rows × 3 columns</p>\n",
       "</div>"
      ],
      "text/plain": [
       "                                                    text binarized_label  \\\n",
       "3      Me and my friends spent sometime organizing a ...           WRONG   \n",
       "18     A girl I dated a few years ago and I have rema...           WRONG   \n",
       "22     TLDR at bottom.\\n\\nSo went to a nice dinner wi...           WRONG   \n",
       "27     For some context, I live in a flatshare with t...           WRONG   \n",
       "30     I (24M) have been with my girlfriend(29F) for ...           WRONG   \n",
       "...                                                  ...             ...   \n",
       "27742  It all started when I gave her the password to...           WRONG   \n",
       "27743  Bit of a backstory, my boyfriend and I began d...           WRONG   \n",
       "27747  I work in a very small team at my company. So ...           WRONG   \n",
       "27751  On Valentine’s Day, my GF and I had a great di...           WRONG   \n",
       "27753  So I have very vivid dreams, and last night wa...           WRONG   \n",
       "\n",
       "       num_binarized_label  \n",
       "3                        1  \n",
       "18                       1  \n",
       "22                       1  \n",
       "27                       1  \n",
       "30                       1  \n",
       "...                    ...  \n",
       "27742                    1  \n",
       "27743                    1  \n",
       "27747                    1  \n",
       "27751                    1  \n",
       "27753                    1  \n",
       "\n",
       "[5738 rows x 3 columns]"
      ]
     },
     "execution_count": 16,
     "metadata": {},
     "output_type": "execute_result"
    }
   ],
   "source": [
    "nbl1 = train_df['num_binarized_label'] == 1\n",
    "train_df_1 = pd.DataFrame(train_df[nbl1])\n",
    "train_df_1"
   ]
  },
  {
   "cell_type": "code",
   "execution_count": 17,
   "metadata": {
    "colab": {
     "base_uri": "https://localhost:8080/",
     "height": 424
    },
    "id": "DLAVTtCE1Esy",
    "outputId": "f5710278-4c78-4d7d-a9a7-2ebbf77bbb1d"
   },
   "outputs": [
    {
     "data": {
      "text/html": [
       "<div>\n",
       "<style scoped>\n",
       "    .dataframe tbody tr th:only-of-type {\n",
       "        vertical-align: middle;\n",
       "    }\n",
       "\n",
       "    .dataframe tbody tr th {\n",
       "        vertical-align: top;\n",
       "    }\n",
       "\n",
       "    .dataframe thead th {\n",
       "        text-align: right;\n",
       "    }\n",
       "</style>\n",
       "<table border=\"1\" class=\"dataframe\">\n",
       "  <thead>\n",
       "    <tr style=\"text-align: right;\">\n",
       "      <th></th>\n",
       "      <th>text</th>\n",
       "      <th>binarized_label</th>\n",
       "      <th>num_binarized_label</th>\n",
       "    </tr>\n",
       "  </thead>\n",
       "  <tbody>\n",
       "    <tr>\n",
       "      <th>0</th>\n",
       "      <td>Backstory: So, I got an Xbox one for Christmas...</td>\n",
       "      <td>RIGHT</td>\n",
       "      <td>0</td>\n",
       "    </tr>\n",
       "    <tr>\n",
       "      <th>1</th>\n",
       "      <td>I work with about six other people at might jo...</td>\n",
       "      <td>RIGHT</td>\n",
       "      <td>0</td>\n",
       "    </tr>\n",
       "    <tr>\n",
       "      <th>2</th>\n",
       "      <td>Context: There was an Instagram post about unp...</td>\n",
       "      <td>RIGHT</td>\n",
       "      <td>0</td>\n",
       "    </tr>\n",
       "    <tr>\n",
       "      <th>4</th>\n",
       "      <td>A little background. I'm a far from rich guy w...</td>\n",
       "      <td>RIGHT</td>\n",
       "      <td>0</td>\n",
       "    </tr>\n",
       "    <tr>\n",
       "      <th>5</th>\n",
       "      <td>TL;DR: sister's husband recently purchased a (...</td>\n",
       "      <td>RIGHT</td>\n",
       "      <td>0</td>\n",
       "    </tr>\n",
       "    <tr>\n",
       "      <th>...</th>\n",
       "      <td>...</td>\n",
       "      <td>...</td>\n",
       "      <td>...</td>\n",
       "    </tr>\n",
       "    <tr>\n",
       "      <th>7799</th>\n",
       "      <td>*Mobile, sorry in advance\\n\\nBackground: I’m a...</td>\n",
       "      <td>RIGHT</td>\n",
       "      <td>0</td>\n",
       "    </tr>\n",
       "    <tr>\n",
       "      <th>7801</th>\n",
       "      <td>So this is pretty long so I’ll get right into ...</td>\n",
       "      <td>RIGHT</td>\n",
       "      <td>0</td>\n",
       "    </tr>\n",
       "    <tr>\n",
       "      <th>7802</th>\n",
       "      <td>Right then: first the setting. My condo has al...</td>\n",
       "      <td>RIGHT</td>\n",
       "      <td>0</td>\n",
       "    </tr>\n",
       "    <tr>\n",
       "      <th>7803</th>\n",
       "      <td>Got into an argument with my dad about eating ...</td>\n",
       "      <td>RIGHT</td>\n",
       "      <td>0</td>\n",
       "    </tr>\n",
       "    <tr>\n",
       "      <th>7804</th>\n",
       "      <td>My partner smokes, although I’m honestly not b...</td>\n",
       "      <td>RIGHT</td>\n",
       "      <td>0</td>\n",
       "    </tr>\n",
       "  </tbody>\n",
       "</table>\n",
       "<p>5738 rows × 3 columns</p>\n",
       "</div>"
      ],
      "text/plain": [
       "                                                   text binarized_label  \\\n",
       "0     Backstory: So, I got an Xbox one for Christmas...           RIGHT   \n",
       "1     I work with about six other people at might jo...           RIGHT   \n",
       "2     Context: There was an Instagram post about unp...           RIGHT   \n",
       "4     A little background. I'm a far from rich guy w...           RIGHT   \n",
       "5     TL;DR: sister's husband recently purchased a (...           RIGHT   \n",
       "...                                                 ...             ...   \n",
       "7799  *Mobile, sorry in advance\\n\\nBackground: I’m a...           RIGHT   \n",
       "7801  So this is pretty long so I’ll get right into ...           RIGHT   \n",
       "7802  Right then: first the setting. My condo has al...           RIGHT   \n",
       "7803  Got into an argument with my dad about eating ...           RIGHT   \n",
       "7804  My partner smokes, although I’m honestly not b...           RIGHT   \n",
       "\n",
       "      num_binarized_label  \n",
       "0                       0  \n",
       "1                       0  \n",
       "2                       0  \n",
       "4                       0  \n",
       "5                       0  \n",
       "...                   ...  \n",
       "7799                    0  \n",
       "7801                    0  \n",
       "7802                    0  \n",
       "7803                    0  \n",
       "7804                    0  \n",
       "\n",
       "[5738 rows x 3 columns]"
      ]
     },
     "execution_count": 17,
     "metadata": {},
     "output_type": "execute_result"
    }
   ],
   "source": [
    "nbl0 = train_df['num_binarized_label'] == 0\n",
    "train_df_new = pd.DataFrame(train_df[nbl0]) # dataframe that only contains '0' as num_binarized_label\n",
    "#train_df_new\n",
    "train_df_0 = train_df_new.iloc[:5738]\n",
    "train_df_0"
   ]
  },
  {
   "cell_type": "code",
   "execution_count": 18,
   "metadata": {
    "id": "2eRPf-uA2R0b"
   },
   "outputs": [],
   "source": [
    "balance_train_df = train_df_0.append(train_df_1, ignore_index=True)\n",
    "#balance_train_df\n",
    "train_df = balance_train_df.sample(frac = 1) # shuffle"
   ]
  },
  {
   "cell_type": "code",
   "execution_count": 19,
   "metadata": {
    "colab": {
     "base_uri": "https://localhost:8080/",
     "height": 424
    },
    "id": "cyfZWryt3Lt4",
    "outputId": "31bda3ce-8e5b-4a8d-f2bf-c04d1d066c6b"
   },
   "outputs": [
    {
     "data": {
      "text/html": [
       "<div>\n",
       "<style scoped>\n",
       "    .dataframe tbody tr th:only-of-type {\n",
       "        vertical-align: middle;\n",
       "    }\n",
       "\n",
       "    .dataframe tbody tr th {\n",
       "        vertical-align: top;\n",
       "    }\n",
       "\n",
       "    .dataframe thead th {\n",
       "        text-align: right;\n",
       "    }\n",
       "</style>\n",
       "<table border=\"1\" class=\"dataframe\">\n",
       "  <thead>\n",
       "    <tr style=\"text-align: right;\">\n",
       "      <th></th>\n",
       "      <th>text</th>\n",
       "      <th>binarized_label</th>\n",
       "      <th>num_binarized_label</th>\n",
       "    </tr>\n",
       "  </thead>\n",
       "  <tbody>\n",
       "    <tr>\n",
       "      <th>1659</th>\n",
       "      <td>2 years ago, I was in high school and dated a ...</td>\n",
       "      <td>RIGHT</td>\n",
       "      <td>0</td>\n",
       "    </tr>\n",
       "    <tr>\n",
       "      <th>3911</th>\n",
       "      <td>TLDR: My (22F) aunt (54F) thinks that I gained...</td>\n",
       "      <td>RIGHT</td>\n",
       "      <td>0</td>\n",
       "    </tr>\n",
       "    <tr>\n",
       "      <th>433</th>\n",
       "      <td>I made a post on r/MaliciousCompliance yesterd...</td>\n",
       "      <td>RIGHT</td>\n",
       "      <td>0</td>\n",
       "    </tr>\n",
       "    <tr>\n",
       "      <th>9283</th>\n",
       "      <td>I went to an (American) College Football bowl ...</td>\n",
       "      <td>WRONG</td>\n",
       "      <td>1</td>\n",
       "    </tr>\n",
       "    <tr>\n",
       "      <th>11147</th>\n",
       "      <td>Sorry for my poor english knowledge and format...</td>\n",
       "      <td>WRONG</td>\n",
       "      <td>1</td>\n",
       "    </tr>\n",
       "    <tr>\n",
       "      <th>...</th>\n",
       "      <td>...</td>\n",
       "      <td>...</td>\n",
       "      <td>...</td>\n",
       "    </tr>\n",
       "    <tr>\n",
       "      <th>9457</th>\n",
       "      <td>Here is a little background info before I get ...</td>\n",
       "      <td>WRONG</td>\n",
       "      <td>1</td>\n",
       "    </tr>\n",
       "    <tr>\n",
       "      <th>6095</th>\n",
       "      <td>About 6 months ago, I was selling a camera len...</td>\n",
       "      <td>WRONG</td>\n",
       "      <td>1</td>\n",
       "    </tr>\n",
       "    <tr>\n",
       "      <th>2399</th>\n",
       "      <td>So next Sunday, my father is meeting this guy ...</td>\n",
       "      <td>RIGHT</td>\n",
       "      <td>0</td>\n",
       "    </tr>\n",
       "    <tr>\n",
       "      <th>482</th>\n",
       "      <td>This is gonna be a long one, so I'll put a tl:...</td>\n",
       "      <td>RIGHT</td>\n",
       "      <td>0</td>\n",
       "    </tr>\n",
       "    <tr>\n",
       "      <th>4526</th>\n",
       "      <td>For context, I'm a man. I have a few friends w...</td>\n",
       "      <td>RIGHT</td>\n",
       "      <td>0</td>\n",
       "    </tr>\n",
       "  </tbody>\n",
       "</table>\n",
       "<p>11476 rows × 3 columns</p>\n",
       "</div>"
      ],
      "text/plain": [
       "                                                    text binarized_label  \\\n",
       "1659   2 years ago, I was in high school and dated a ...           RIGHT   \n",
       "3911   TLDR: My (22F) aunt (54F) thinks that I gained...           RIGHT   \n",
       "433    I made a post on r/MaliciousCompliance yesterd...           RIGHT   \n",
       "9283   I went to an (American) College Football bowl ...           WRONG   \n",
       "11147  Sorry for my poor english knowledge and format...           WRONG   \n",
       "...                                                  ...             ...   \n",
       "9457   Here is a little background info before I get ...           WRONG   \n",
       "6095   About 6 months ago, I was selling a camera len...           WRONG   \n",
       "2399   So next Sunday, my father is meeting this guy ...           RIGHT   \n",
       "482    This is gonna be a long one, so I'll put a tl:...           RIGHT   \n",
       "4526   For context, I'm a man. I have a few friends w...           RIGHT   \n",
       "\n",
       "       num_binarized_label  \n",
       "1659                     0  \n",
       "3911                     0  \n",
       "433                      0  \n",
       "9283                     1  \n",
       "11147                    1  \n",
       "...                    ...  \n",
       "9457                     1  \n",
       "6095                     1  \n",
       "2399                     0  \n",
       "482                      0  \n",
       "4526                     0  \n",
       "\n",
       "[11476 rows x 3 columns]"
      ]
     },
     "execution_count": 19,
     "metadata": {},
     "output_type": "execute_result"
    }
   ],
   "source": [
    "train_df"
   ]
  },
  {
   "cell_type": "code",
   "execution_count": 20,
   "metadata": {
    "id": "5c18o1K2bo01"
   },
   "outputs": [],
   "source": [
    "def clean_text(text):\n",
    "    #Remove emojis and special chars\n",
    "    clean=text\n",
    "    #reg = re.compile('\\\\.+?(?=\\B|$)')\n",
    "    #clean = text.apply(lambda r: re.sub(reg, string=r, repl=''))\n",
    "    #reg = re.compile('\\x89Û_')\n",
    "    #clean = clean.apply(lambda r: re.sub(reg, string=r, repl=' '))\n",
    "    reg = re.compile('\\&amp')\n",
    "    clean = clean.apply(lambda r: re.sub(reg, string=r, repl='&'))\n",
    "    reg = re.compile('\\\\n')\n",
    "    clean = clean.apply(lambda r: re.sub(reg, string=r, repl=' '))\n",
    "    \n",
    "    #Remove hashtag symbol (#)\n",
    "    #clean = clean.apply(lambda r: r.replace('#', ''))\n",
    "\n",
    "    #Remove user names\n",
    "    reg = re.compile('@[a-zA-Z0-9\\_]+')\n",
    "    clean = clean.apply(lambda r: re.sub(reg, string=r, repl='@'))\n",
    "\n",
    "    #Remove URLs\n",
    "    reg = re.compile('https?\\S+(?=\\s|$)')\n",
    "    clean = clean.apply(lambda r: re.sub(reg, string=r, repl='www'))\n",
    "\n",
    "    #Lowercase\n",
    "    #clean = clean.apply(lambda r: r.lower())\n",
    "    return clean"
   ]
  },
  {
   "cell_type": "code",
   "execution_count": 21,
   "metadata": {
    "id": "S2FiZCn8nH1P"
   },
   "outputs": [],
   "source": [
    "train_df = train_df.replace(np.nan, '', regex=True)\n",
    "\n",
    "dev_df = dev_df.replace(np.nan, '', regex=True)\n",
    "\n",
    "test_df = test_df.replace(np.nan, '', regex=True)\n"
   ]
  },
  {
   "cell_type": "code",
   "execution_count": 22,
   "metadata": {
    "id": "soOLE6zFbqiP"
   },
   "outputs": [],
   "source": [
    "#toxic_df['clean'] = clean_text(toxic_df['comment_text'])\n",
    "train_df['clean'] = clean_text(train_df['text'])\n",
    "dev_df['clean'] = clean_text(dev_df['text'])\n",
    "test_df['clean'] = clean_text(test_df['text'])"
   ]
  },
  {
   "cell_type": "code",
   "execution_count": 23,
   "metadata": {
    "colab": {
     "base_uri": "https://localhost:8080/",
     "height": 424
    },
    "id": "MgvH0C9-ncI6",
    "outputId": "15a38a7e-de5f-4cd0-cd2d-efab6fcf250a"
   },
   "outputs": [
    {
     "data": {
      "text/html": [
       "<div>\n",
       "<style scoped>\n",
       "    .dataframe tbody tr th:only-of-type {\n",
       "        vertical-align: middle;\n",
       "    }\n",
       "\n",
       "    .dataframe tbody tr th {\n",
       "        vertical-align: top;\n",
       "    }\n",
       "\n",
       "    .dataframe thead th {\n",
       "        text-align: right;\n",
       "    }\n",
       "</style>\n",
       "<table border=\"1\" class=\"dataframe\">\n",
       "  <thead>\n",
       "    <tr style=\"text-align: right;\">\n",
       "      <th></th>\n",
       "      <th>text</th>\n",
       "      <th>binarized_label</th>\n",
       "      <th>num_binarized_label</th>\n",
       "      <th>clean</th>\n",
       "    </tr>\n",
       "  </thead>\n",
       "  <tbody>\n",
       "    <tr>\n",
       "      <th>1659</th>\n",
       "      <td>2 years ago, I was in high school and dated a ...</td>\n",
       "      <td>RIGHT</td>\n",
       "      <td>0</td>\n",
       "      <td>2 years ago, I was in high school and dated a ...</td>\n",
       "    </tr>\n",
       "    <tr>\n",
       "      <th>3911</th>\n",
       "      <td>TLDR: My (22F) aunt (54F) thinks that I gained...</td>\n",
       "      <td>RIGHT</td>\n",
       "      <td>0</td>\n",
       "      <td>TLDR: My (22F) aunt (54F) thinks that I gained...</td>\n",
       "    </tr>\n",
       "    <tr>\n",
       "      <th>433</th>\n",
       "      <td>I made a post on r/MaliciousCompliance yesterd...</td>\n",
       "      <td>RIGHT</td>\n",
       "      <td>0</td>\n",
       "      <td>I made a post on r/MaliciousCompliance yesterd...</td>\n",
       "    </tr>\n",
       "    <tr>\n",
       "      <th>9283</th>\n",
       "      <td>I went to an (American) College Football bowl ...</td>\n",
       "      <td>WRONG</td>\n",
       "      <td>1</td>\n",
       "      <td>I went to an (American) College Football bowl ...</td>\n",
       "    </tr>\n",
       "    <tr>\n",
       "      <th>11147</th>\n",
       "      <td>Sorry for my poor english knowledge and format...</td>\n",
       "      <td>WRONG</td>\n",
       "      <td>1</td>\n",
       "      <td>Sorry for my poor english knowledge and format...</td>\n",
       "    </tr>\n",
       "    <tr>\n",
       "      <th>...</th>\n",
       "      <td>...</td>\n",
       "      <td>...</td>\n",
       "      <td>...</td>\n",
       "      <td>...</td>\n",
       "    </tr>\n",
       "    <tr>\n",
       "      <th>9457</th>\n",
       "      <td>Here is a little background info before I get ...</td>\n",
       "      <td>WRONG</td>\n",
       "      <td>1</td>\n",
       "      <td>Here is a little background info before I get ...</td>\n",
       "    </tr>\n",
       "    <tr>\n",
       "      <th>6095</th>\n",
       "      <td>About 6 months ago, I was selling a camera len...</td>\n",
       "      <td>WRONG</td>\n",
       "      <td>1</td>\n",
       "      <td>About 6 months ago, I was selling a camera len...</td>\n",
       "    </tr>\n",
       "    <tr>\n",
       "      <th>2399</th>\n",
       "      <td>So next Sunday, my father is meeting this guy ...</td>\n",
       "      <td>RIGHT</td>\n",
       "      <td>0</td>\n",
       "      <td>So next Sunday, my father is meeting this guy ...</td>\n",
       "    </tr>\n",
       "    <tr>\n",
       "      <th>482</th>\n",
       "      <td>This is gonna be a long one, so I'll put a tl:...</td>\n",
       "      <td>RIGHT</td>\n",
       "      <td>0</td>\n",
       "      <td>This is gonna be a long one, so I'll put a tl:...</td>\n",
       "    </tr>\n",
       "    <tr>\n",
       "      <th>4526</th>\n",
       "      <td>For context, I'm a man. I have a few friends w...</td>\n",
       "      <td>RIGHT</td>\n",
       "      <td>0</td>\n",
       "      <td>For context, I'm a man. I have a few friends w...</td>\n",
       "    </tr>\n",
       "  </tbody>\n",
       "</table>\n",
       "<p>11476 rows × 4 columns</p>\n",
       "</div>"
      ],
      "text/plain": [
       "                                                    text binarized_label  \\\n",
       "1659   2 years ago, I was in high school and dated a ...           RIGHT   \n",
       "3911   TLDR: My (22F) aunt (54F) thinks that I gained...           RIGHT   \n",
       "433    I made a post on r/MaliciousCompliance yesterd...           RIGHT   \n",
       "9283   I went to an (American) College Football bowl ...           WRONG   \n",
       "11147  Sorry for my poor english knowledge and format...           WRONG   \n",
       "...                                                  ...             ...   \n",
       "9457   Here is a little background info before I get ...           WRONG   \n",
       "6095   About 6 months ago, I was selling a camera len...           WRONG   \n",
       "2399   So next Sunday, my father is meeting this guy ...           RIGHT   \n",
       "482    This is gonna be a long one, so I'll put a tl:...           RIGHT   \n",
       "4526   For context, I'm a man. I have a few friends w...           RIGHT   \n",
       "\n",
       "       num_binarized_label                                              clean  \n",
       "1659                     0  2 years ago, I was in high school and dated a ...  \n",
       "3911                     0  TLDR: My (22F) aunt (54F) thinks that I gained...  \n",
       "433                      0  I made a post on r/MaliciousCompliance yesterd...  \n",
       "9283                     1  I went to an (American) College Football bowl ...  \n",
       "11147                    1  Sorry for my poor english knowledge and format...  \n",
       "...                    ...                                                ...  \n",
       "9457                     1  Here is a little background info before I get ...  \n",
       "6095                     1  About 6 months ago, I was selling a camera len...  \n",
       "2399                     0  So next Sunday, my father is meeting this guy ...  \n",
       "482                      0  This is gonna be a long one, so I'll put a tl:...  \n",
       "4526                     0  For context, I'm a man. I have a few friends w...  \n",
       "\n",
       "[11476 rows x 4 columns]"
      ]
     },
     "execution_count": 23,
     "metadata": {},
     "output_type": "execute_result"
    }
   ],
   "source": [
    "train_df"
   ]
  },
  {
   "cell_type": "code",
   "execution_count": 24,
   "metadata": {
    "colab": {
     "base_uri": "https://localhost:8080/",
     "height": 107
    },
    "id": "b1omAf1cd6Nh",
    "outputId": "eef0a994-52d4-4b96-bca8-2b14b903b05a"
   },
   "outputs": [
    {
     "data": {
      "text/plain": [
       "\"   Throwaway for obvious reasons.     I dropped out of uni 2 years ago because I was planning on moving to a different country and going to Uni there. However, my parents didn't want to help me in any way and I couldn't afford it myself. They've always supported my younger sister though, bought her an apartment and they're even paying her bills, even though she earns enough money to do that herself. So atm I'm stuck at home with them, which sucks as I am 25 yo and I feel like I'm wasting my life completely.     Both my parents were extremely abusive, especially my dad. As a result, I have social anxiety, trust issues, panic attacks etc. I can deal with everything as I got used to it anyway, but lately things have gotten worse.     A few years ago my dad was diagnosed with type II diabetes, and he retired. He's been staying at home ever since and he's slowly but surely becoming a vegetable. He had a stroke which left him unable to speak/walk properly. I'm no doctor, but I found his hospital records and even talked to a nurse, and she said he's a bloody mess and he could die at any time. The worst part is, he doesn't realise what's happening around him anymore. He leaves the apartment door open at night, he forgets stuff on the stove, and he makes a huge mess everywhere. I talked to my mum about this, I don't feel safe with him around. He clearly lost his mind but she refuses to acknowledge it. Throughout the years, I've tried to tell her there's something really wrong with him, but she always just shrugged it off. He was an awful husband, so she doesn't love him, but she says she feels pity for him.     I suggested we put him in a retirement home, as he clearly cannot take care of himself and he's putting our lives in danger. I sleep with ear plugs because he slams doors/drops things all the time. I'm afraid he might set our apartment on fire or worse. My mum doesn't want to do that because she's afraid of his reaction; she thinks he's going to get a heart attack if she tries to bring it up. He's always hated hospitals and he always refused treatment, even when he got bitten by a stray dog, even after his stroke, so I see where my mum is coming from. However, I've had enough.     Yesterday I heard him choke, he was struggling to breathe and honestly, it sounded like he was gonna die. And I was relieved. My first instinct wasn't to help him, instead I kept doing my skincare, honestly hoping he'd just die already. He didn't. I told my mum what happened when she got home and she thinks I'm a monster. But am I really? This person has abused me my entire life, has beaten the living shit out of me, hell he has even tried to kill me a few times. I know my life would get better if he died, my mum would sell our apartment and I'd finally have money to go to college and start my own life. So AITA for wanting my abusive father gone?\""
      ]
     },
     "execution_count": 24,
     "metadata": {},
     "output_type": "execute_result"
    }
   ],
   "source": [
    "test_df['clean'][0]"
   ]
  },
  {
   "cell_type": "code",
   "execution_count": null,
   "metadata": {
    "id": "8SlXUh6eaouY"
   },
   "outputs": [],
   "source": []
  },
  {
   "cell_type": "markdown",
   "metadata": {
    "id": "6inA2y46ayU3"
   },
   "source": [
    "# **Data preprocessing**"
   ]
  },
  {
   "cell_type": "code",
   "execution_count": 25,
   "metadata": {
    "colab": {
     "base_uri": "https://localhost:8080/",
     "height": 861
    },
    "id": "Ta4HcJDXi80-",
    "outputId": "f7bddaf2-db0c-460e-b134-43364907ff42"
   },
   "outputs": [
    {
     "data": {
      "text/html": [
       "<div>\n",
       "<style scoped>\n",
       "    .dataframe tbody tr th:only-of-type {\n",
       "        vertical-align: middle;\n",
       "    }\n",
       "\n",
       "    .dataframe tbody tr th {\n",
       "        vertical-align: top;\n",
       "    }\n",
       "\n",
       "    .dataframe thead th {\n",
       "        text-align: right;\n",
       "    }\n",
       "</style>\n",
       "<table border=\"1\" class=\"dataframe\">\n",
       "  <thead>\n",
       "    <tr style=\"text-align: right;\">\n",
       "      <th></th>\n",
       "      <th>text</th>\n",
       "      <th>binarized_label</th>\n",
       "      <th>num_binarized_label</th>\n",
       "      <th>clean</th>\n",
       "      <th>lower</th>\n",
       "    </tr>\n",
       "  </thead>\n",
       "  <tbody>\n",
       "    <tr>\n",
       "      <th>1659</th>\n",
       "      <td>2 years ago, I was in high school and dated a ...</td>\n",
       "      <td>RIGHT</td>\n",
       "      <td>0</td>\n",
       "      <td>2 years ago, I was in high school and dated a ...</td>\n",
       "      <td>2 years ago, i was in high school and dated a ...</td>\n",
       "    </tr>\n",
       "    <tr>\n",
       "      <th>3911</th>\n",
       "      <td>TLDR: My (22F) aunt (54F) thinks that I gained...</td>\n",
       "      <td>RIGHT</td>\n",
       "      <td>0</td>\n",
       "      <td>TLDR: My (22F) aunt (54F) thinks that I gained...</td>\n",
       "      <td>tldr: my (22f) aunt (54f) thinks that i gained...</td>\n",
       "    </tr>\n",
       "    <tr>\n",
       "      <th>433</th>\n",
       "      <td>I made a post on r/MaliciousCompliance yesterd...</td>\n",
       "      <td>RIGHT</td>\n",
       "      <td>0</td>\n",
       "      <td>I made a post on r/MaliciousCompliance yesterd...</td>\n",
       "      <td>i made a post on r/maliciouscompliance yesterd...</td>\n",
       "    </tr>\n",
       "    <tr>\n",
       "      <th>9283</th>\n",
       "      <td>I went to an (American) College Football bowl ...</td>\n",
       "      <td>WRONG</td>\n",
       "      <td>1</td>\n",
       "      <td>I went to an (American) College Football bowl ...</td>\n",
       "      <td>i went to an (american) college football bowl ...</td>\n",
       "    </tr>\n",
       "    <tr>\n",
       "      <th>11147</th>\n",
       "      <td>Sorry for my poor english knowledge and format...</td>\n",
       "      <td>WRONG</td>\n",
       "      <td>1</td>\n",
       "      <td>Sorry for my poor english knowledge and format...</td>\n",
       "      <td>sorry for my poor english knowledge and format...</td>\n",
       "    </tr>\n",
       "  </tbody>\n",
       "</table>\n",
       "</div>"
      ],
      "text/plain": [
       "                                                    text binarized_label  \\\n",
       "1659   2 years ago, I was in high school and dated a ...           RIGHT   \n",
       "3911   TLDR: My (22F) aunt (54F) thinks that I gained...           RIGHT   \n",
       "433    I made a post on r/MaliciousCompliance yesterd...           RIGHT   \n",
       "9283   I went to an (American) College Football bowl ...           WRONG   \n",
       "11147  Sorry for my poor english knowledge and format...           WRONG   \n",
       "\n",
       "       num_binarized_label                                              clean  \\\n",
       "1659                     0  2 years ago, I was in high school and dated a ...   \n",
       "3911                     0  TLDR: My (22F) aunt (54F) thinks that I gained...   \n",
       "433                      0  I made a post on r/MaliciousCompliance yesterd...   \n",
       "9283                     1  I went to an (American) College Football bowl ...   \n",
       "11147                    1  Sorry for my poor english knowledge and format...   \n",
       "\n",
       "                                                   lower  \n",
       "1659   2 years ago, i was in high school and dated a ...  \n",
       "3911   tldr: my (22f) aunt (54f) thinks that i gained...  \n",
       "433    i made a post on r/maliciouscompliance yesterd...  \n",
       "9283   i went to an (american) college football bowl ...  \n",
       "11147  sorry for my poor english knowledge and format...  "
      ]
     },
     "metadata": {},
     "output_type": "display_data"
    }
   ],
   "source": [
    "#toxic_df[\"lower\"] = toxic_df[\"clean\"].apply(lambda x: x.lower())\n",
    "\n",
    "train_df[\"lower\"] = train_df[\"clean\"].apply(lambda x: x.lower())\n",
    "\n",
    "dev_df[\"lower\"] = dev_df[\"clean\"].apply(lambda x: x.lower())\n",
    "\n",
    "test_df[\"lower\"] = test_df[\"clean\"].apply(lambda x: x.lower())\n",
    "display(train_df.head())"
   ]
  },
  {
   "cell_type": "code",
   "execution_count": 26,
   "metadata": {
    "colab": {
     "base_uri": "https://localhost:8080/"
    },
    "id": "R8a01ZoVi8yh",
    "outputId": "3c1ca8bb-bede-44c9-a001-b15115216111"
   },
   "outputs": [
    {
     "name": "stdout",
     "output_type": "stream",
     "text": [
      "Looking in links: /cvmfs/soft.computecanada.ca/custom/python/wheelhouse/gentoo/avx2, /cvmfs/soft.computecanada.ca/custom/python/wheelhouse/gentoo/generic, /cvmfs/soft.computecanada.ca/custom/python/wheelhouse/generic\n",
      "Requirement already satisfied: contractions in ./jp1/lib/python3.10/site-packages (0.1.73)\n",
      "Requirement already satisfied: textsearch>=0.0.21 in ./jp1/lib/python3.10/site-packages (from contractions) (0.0.24)\n",
      "Requirement already satisfied: anyascii in ./jp1/lib/python3.10/site-packages (from textsearch>=0.0.21->contractions) (0.3.1)\n",
      "Requirement already satisfied: pyahocorasick in ./jp1/lib/python3.10/site-packages (from textsearch>=0.0.21->contractions) (1.4.4+computecanada)\n"
     ]
    }
   ],
   "source": [
    "!pip install contractions\n",
    "import contractions\n",
    "#toxic_df[\"lower\"] = toxic_df[\"lower\"].apply(lambda x: contractions.fix(x))\n",
    "train_df[\"lower\"] = train_df[\"lower\"].apply(lambda x: contractions.fix(x))\n",
    "dev_df[\"lower\"] = dev_df[\"lower\"].apply(lambda x: contractions.fix(x))\n",
    "test_df[\"lower\"] = test_df[\"lower\"].apply(lambda x: contractions.fix(x))"
   ]
  },
  {
   "cell_type": "code",
   "execution_count": 27,
   "metadata": {
    "id": "nJHpsc2homtd"
   },
   "outputs": [],
   "source": [
    "def remove_non_ascii(text):\n",
    "    \"\"\"\n",
    "        Remove non-ASCII characters \n",
    "    \"\"\"\n",
    "    return re.sub(r'[^\\x00-\\x7f]',r'', text) # or ''.join([x for x in text if x in string.printable]) \n",
    "\n",
    "# remove non-ascii characters from the text\n",
    "#toxic_df[\"lower\"] = toxic_df[\"lower\"].apply(lambda x: remove_non_ascii(x))\n",
    "train_df[\"lower\"] = train_df[\"lower\"].apply(lambda x: remove_non_ascii(x))\n",
    "dev_df[\"lower\"] = dev_df[\"lower\"].apply(lambda x: remove_non_ascii(x))\n",
    "test_df[\"lower\"] = test_df[\"lower\"].apply(lambda x: remove_non_ascii(x))"
   ]
  },
  {
   "cell_type": "code",
   "execution_count": 28,
   "metadata": {
    "id": "Jv6RO3iKop6o"
   },
   "outputs": [],
   "source": [
    "def remove_special_characters(text):\n",
    "    \"\"\"\n",
    "        Remove special special characters, including symbols, emojis, and other graphic characters\n",
    "    \"\"\"\n",
    "    emoji_pattern = re.compile(\n",
    "        '['\n",
    "        u'\\U0001F600-\\U0001F64F'  # emoticons\n",
    "        u'\\U0001F300-\\U0001F5FF'  # symbols & pictographs\n",
    "        u'\\U0001F680-\\U0001F6FF'  # transport & map symbols\n",
    "        u'\\U0001F1E0-\\U0001F1FF'  # flags (iOS)\n",
    "        u'\\U00002702-\\U000027B0'\n",
    "        u'\\U000024C2-\\U0001F251'\n",
    "        ']+',\n",
    "        flags=re.UNICODE)\n",
    "    return emoji_pattern.sub(r'', text)\n",
    "\n",
    "\n",
    "# remove non-ascii characters from the text\n",
    "#toxic_df[\"lower\"] = toxic_df[\"lower\"].apply(lambda x: remove_special_characters(x))\n",
    "train_df[\"lower\"] = train_df[\"lower\"].apply(lambda x: remove_special_characters(x))\n",
    "dev_df[\"lower\"] = dev_df[\"lower\"].apply(lambda x: remove_special_characters(x))\n",
    "test_df[\"lower\"] = test_df[\"lower\"].apply(lambda x: remove_special_characters(x))"
   ]
  },
  {
   "cell_type": "code",
   "execution_count": 29,
   "metadata": {
    "colab": {
     "base_uri": "https://localhost:8080/"
    },
    "id": "caTZ_mtZEmIZ",
    "outputId": "d01ca8b9-68aa-43a9-edb2-d0950baf7be2"
   },
   "outputs": [
    {
     "name": "stderr",
     "output_type": "stream",
     "text": [
      "[nltk_data] Downloading package punkt to /home/zhe8nov1/nltk_data...\n",
      "[nltk_data]   Package punkt is already up-to-date!\n"
     ]
    },
    {
     "data": {
      "text/plain": [
       "True"
      ]
     },
     "execution_count": 29,
     "metadata": {},
     "output_type": "execute_result"
    }
   ],
   "source": [
    "import nltk\n",
    "nltk.download('punkt')"
   ]
  },
  {
   "cell_type": "code",
   "execution_count": 30,
   "metadata": {
    "id": "5EwtF6_kEFKs"
   },
   "outputs": [],
   "source": [
    "# Tokenizing the tweet base texts.\n",
    "from nltk.tokenize import word_tokenize\n",
    "#toxic_df['tokenized'] = toxic_df['lower'].apply(word_tokenize)\n",
    "train_df['tokenized'] = train_df['lower'].apply(word_tokenize)\n",
    "dev_df['tokenized'] = dev_df['lower'].apply(word_tokenize)\n",
    "test_df['tokenized'] = test_df['lower'].apply(word_tokenize)"
   ]
  },
  {
   "cell_type": "code",
   "execution_count": 31,
   "metadata": {
    "colab": {
     "base_uri": "https://localhost:8080/",
     "height": 1000
    },
    "id": "ASAwOzNfEFFq",
    "outputId": "8ffe1c5b-272e-4206-fd93-8e41c24416d7"
   },
   "outputs": [],
   "source": [
    "from nltk.stem import SnowballStemmer\n",
    "\n",
    "def snowball_stemmer(text):\n",
    "    \"\"\"\n",
    "        Stem words in list of tokenized words with SnowballStemmer\n",
    "    \"\"\"\n",
    "    stemmer = nltk.SnowballStemmer(\"english\")\n",
    "    stems = [stemmer.stem(i) for i in text]\n",
    "    return stems\n"
   ]
  },
  {
   "cell_type": "code",
   "execution_count": 32,
   "metadata": {
    "colab": {
     "base_uri": "https://localhost:8080/"
    },
    "id": "NcsmJA_aGdnj",
    "outputId": "660000fe-b7ae-41dd-f13b-1683e9112af3"
   },
   "outputs": [
    {
     "name": "stderr",
     "output_type": "stream",
     "text": [
      "[nltk_data] Downloading package wordnet to /home/zhe8nov1/nltk_data...\n",
      "[nltk_data]   Package wordnet is already up-to-date!\n",
      "[nltk_data] Downloading package omw-1.4 to /home/zhe8nov1/nltk_data...\n",
      "[nltk_data]   Package omw-1.4 is already up-to-date!\n"
     ]
    },
    {
     "data": {
      "text/plain": [
       "True"
      ]
     },
     "execution_count": 32,
     "metadata": {},
     "output_type": "execute_result"
    }
   ],
   "source": [
    "import nltk\n",
    "nltk.download('wordnet')\n",
    "nltk.download('omw-1.4')"
   ]
  },
  {
   "cell_type": "code",
   "execution_count": 33,
   "metadata": {
    "id": "bSfB3aFyE7Y8"
   },
   "outputs": [],
   "source": [
    "from nltk.stem import WordNetLemmatizer\n",
    "\n",
    "def lemmatize_word(text):\n",
    "    \"\"\"\n",
    "        Lemmatize the tokenized words\n",
    "    \"\"\"\n",
    "\n",
    "    lemmatizer = WordNetLemmatizer()\n",
    "    lemma = [lemmatizer.lemmatize(word, tag) for word, tag in text]\n",
    "    return lemma\n",
    "\n",
    "\n",
    "lemmatizer = WordNetLemmatizer()\n",
    "\n",
    "\n",
    "train_df['lemmatize_word_wo_pos'] = train_df['tokenized'].apply(lambda x: [lemmatizer.lemmatize(word) for word in x])\n",
    "#train_df['lemmatize_word_wo_pos'] = train_df['lemmatize_word_wo_pos'].apply(lambda x: [word for word in x if word not in stop])\n",
    "\n",
    "dev_df['lemmatize_word_wo_pos'] = dev_df['tokenized'].apply(lambda x: [lemmatizer.lemmatize(word) for word in x])\n",
    "#dev_df['lemmatize_word_wo_pos'] = dev_df['lemmatize_word_wo_pos'].apply(lambda x: [word for word in x if word not in stop])\n",
    "\n",
    "test_df['lemmatize_word_wo_pos'] = test_df['tokenized'].apply(lambda x: [lemmatizer.lemmatize(word) for word in x])\n",
    "#test_df['lemmatize_word_wo_pos'] = test_df['lemmatize_word_wo_pos'].apply(lambda x: [word for word in x if word not in stop])"
   ]
  },
  {
   "cell_type": "code",
   "execution_count": 34,
   "metadata": {
    "colab": {
     "base_uri": "https://localhost:8080/",
     "height": 1000
    },
    "id": "-y8ZnATKE7O9",
    "outputId": "ddb554df-c9cb-41da-81c0-7ff6e9562f60"
   },
   "outputs": [],
   "source": [
    "connect1 = []\n",
    "for i in train_df['lemmatize_word_wo_pos']:\n",
    "  connect1.append(' '.join(i))\n",
    "train_df['clean1'] = connect1\n",
    "\n",
    "\n",
    "connect2 = []\n",
    "for i in dev_df['lemmatize_word_wo_pos']:\n",
    "  connect2.append(' '.join(i))\n",
    "dev_df['clean1'] = connect2\n",
    "\n",
    "\n",
    "connect3 = []\n",
    "for i in test_df['lemmatize_word_wo_pos']:\n",
    "  connect3.append(' '.join(i))\n",
    "test_df['clean1'] = connect3\n"
   ]
  },
  {
   "cell_type": "code",
   "execution_count": 35,
   "metadata": {
    "colab": {
     "base_uri": "https://localhost:8080/",
     "height": 1000
    },
    "id": "hzhA3WzaKylJ",
    "outputId": "ea779bd1-8b9a-45c0-e323-df2fce4cb91d"
   },
   "outputs": [
    {
     "data": {
      "text/plain": [
       "'My boyfriend (well just call him M) and I are creators on Instagram (he is also on TikTok). I\\'m a digital and traditional artist and in one of my classes we create t shirts and things (socks, lanyards, water bottles, stickers, you name it). I\\'m a big fan of putting my art on t shirts so I can sell them.  M wanted to make some posts for TikTok and wanted to use the shirt I made today. My one personal rule is that if the shirt isn\\'t being given to someone else, then I wear it first (this is because I know I wont get it back. Ive made one other shirt that I\\'ve worn, and he wore it for a week and hasn\\'t given it back.) So I told him no, because I haven\\'t worn the shirt yet.   M proceeded to complain about not having content to post, and how his IG post today didn\\'t get any engagement, saying \"of course you dont know, because you never look.\"  Am I the asshole for wanting to wear the shirt I made just once?'"
      ]
     },
     "execution_count": 35,
     "metadata": {},
     "output_type": "execute_result"
    }
   ],
   "source": [
    "dev_df['clean'][0]"
   ]
  },
  {
   "cell_type": "code",
   "execution_count": 36,
   "metadata": {
    "colab": {
     "base_uri": "https://localhost:8080/",
     "height": 1000
    },
    "id": "JOt-23ZRE7Tx",
    "outputId": "52b5eb0d-aeb5-4d2f-8666-dd41b917e9fb"
   },
   "outputs": [
    {
     "data": {
      "text/html": [
       "<div>\n",
       "<style scoped>\n",
       "    .dataframe tbody tr th:only-of-type {\n",
       "        vertical-align: middle;\n",
       "    }\n",
       "\n",
       "    .dataframe tbody tr th {\n",
       "        vertical-align: top;\n",
       "    }\n",
       "\n",
       "    .dataframe thead th {\n",
       "        text-align: right;\n",
       "    }\n",
       "</style>\n",
       "<table border=\"1\" class=\"dataframe\">\n",
       "  <thead>\n",
       "    <tr style=\"text-align: right;\">\n",
       "      <th></th>\n",
       "      <th>text</th>\n",
       "      <th>binarized_label</th>\n",
       "      <th>num_binarized_label</th>\n",
       "      <th>clean</th>\n",
       "      <th>lower</th>\n",
       "      <th>tokenized</th>\n",
       "      <th>lemmatize_word_wo_pos</th>\n",
       "      <th>clean1</th>\n",
       "    </tr>\n",
       "  </thead>\n",
       "  <tbody>\n",
       "    <tr>\n",
       "      <th>0</th>\n",
       "      <td>My boyfriend (well just call him M) and I are ...</td>\n",
       "      <td>RIGHT</td>\n",
       "      <td>0</td>\n",
       "      <td>My boyfriend (well just call him M) and I are ...</td>\n",
       "      <td>my boyfriend (well just call him m) and i are ...</td>\n",
       "      <td>[my, boyfriend, (, well, just, call, him, m, )...</td>\n",
       "      <td>[my, boyfriend, (, well, just, call, him, m, )...</td>\n",
       "      <td>my boyfriend ( well just call him m ) and i ar...</td>\n",
       "    </tr>\n",
       "    <tr>\n",
       "      <th>2</th>\n",
       "      <td>\\n\\nMy really good friend is getting married....</td>\n",
       "      <td>RIGHT</td>\n",
       "      <td>0</td>\n",
       "      <td>My really good friend is getting married. Y...</td>\n",
       "      <td>my really good friend is getting married. y...</td>\n",
       "      <td>[my, really, good, friend, is, getting, marrie...</td>\n",
       "      <td>[my, really, good, friend, is, getting, marrie...</td>\n",
       "      <td>my really good friend is getting married . yay...</td>\n",
       "    </tr>\n",
       "    <tr>\n",
       "      <th>3</th>\n",
       "      <td>I've been very lonely for a long time, few fri...</td>\n",
       "      <td>RIGHT</td>\n",
       "      <td>0</td>\n",
       "      <td>I've been very lonely for a long time, few fri...</td>\n",
       "      <td>i have been very lonely for a long time, few f...</td>\n",
       "      <td>[i, have, been, very, lonely, for, a, long, ti...</td>\n",
       "      <td>[i, have, been, very, lonely, for, a, long, ti...</td>\n",
       "      <td>i have been very lonely for a long time , few ...</td>\n",
       "    </tr>\n",
       "    <tr>\n",
       "      <th>4</th>\n",
       "      <td>Alt account because friends know my real one. ...</td>\n",
       "      <td>RIGHT</td>\n",
       "      <td>0</td>\n",
       "      <td>Alt account because friends know my real one. ...</td>\n",
       "      <td>alt account because friends know my real one. ...</td>\n",
       "      <td>[alt, account, because, friends, know, my, rea...</td>\n",
       "      <td>[alt, account, because, friend, know, my, real...</td>\n",
       "      <td>alt account because friend know my real one . ...</td>\n",
       "    </tr>\n",
       "    <tr>\n",
       "      <th>5</th>\n",
       "      <td>Pretty much was hanging out with two friends. ...</td>\n",
       "      <td>WRONG</td>\n",
       "      <td>1</td>\n",
       "      <td>Pretty much was hanging out with two friends. ...</td>\n",
       "      <td>pretty much was hanging out with two friends. ...</td>\n",
       "      <td>[pretty, much, was, hanging, out, with, two, f...</td>\n",
       "      <td>[pretty, much, wa, hanging, out, with, two, fr...</td>\n",
       "      <td>pretty much wa hanging out with two friend . i...</td>\n",
       "    </tr>\n",
       "    <tr>\n",
       "      <th>...</th>\n",
       "      <td>...</td>\n",
       "      <td>...</td>\n",
       "      <td>...</td>\n",
       "      <td>...</td>\n",
       "      <td>...</td>\n",
       "      <td>...</td>\n",
       "      <td>...</td>\n",
       "      <td>...</td>\n",
       "    </tr>\n",
       "    <tr>\n",
       "      <th>2494</th>\n",
       "      <td>For reference we're both juniors at a T20 coll...</td>\n",
       "      <td>WRONG</td>\n",
       "      <td>1</td>\n",
       "      <td>For reference we're both juniors at a T20 coll...</td>\n",
       "      <td>for reference we are both juniors at a t20 col...</td>\n",
       "      <td>[for, reference, we, are, both, juniors, at, a...</td>\n",
       "      <td>[for, reference, we, are, both, junior, at, a,...</td>\n",
       "      <td>for reference we are both junior at a t20 coll...</td>\n",
       "    </tr>\n",
       "    <tr>\n",
       "      <th>2495</th>\n",
       "      <td>So this just happened and I'm a little taken a...</td>\n",
       "      <td>WRONG</td>\n",
       "      <td>1</td>\n",
       "      <td>So this just happened and I'm a little taken a...</td>\n",
       "      <td>so this just happened and i am a little taken ...</td>\n",
       "      <td>[so, this, just, happened, and, i, am, a, litt...</td>\n",
       "      <td>[so, this, just, happened, and, i, am, a, litt...</td>\n",
       "      <td>so this just happened and i am a little taken ...</td>\n",
       "    </tr>\n",
       "    <tr>\n",
       "      <th>2497</th>\n",
       "      <td>So, I've been friends with someone for a few y...</td>\n",
       "      <td>RIGHT</td>\n",
       "      <td>0</td>\n",
       "      <td>So, I've been friends with someone for a few y...</td>\n",
       "      <td>so, i have been friends with someone for a few...</td>\n",
       "      <td>[so, ,, i, have, been, friends, with, someone,...</td>\n",
       "      <td>[so, ,, i, have, been, friend, with, someone, ...</td>\n",
       "      <td>so , i have been friend with someone for a few...</td>\n",
       "    </tr>\n",
       "    <tr>\n",
       "      <th>2498</th>\n",
       "      <td>My first post!\\n\\nNo words were exchanged in t...</td>\n",
       "      <td>RIGHT</td>\n",
       "      <td>0</td>\n",
       "      <td>My first post!  No words were exchanged in thi...</td>\n",
       "      <td>my first post!  no words were exchanged in thi...</td>\n",
       "      <td>[my, first, post, !, no, words, were, exchange...</td>\n",
       "      <td>[my, first, post, !, no, word, were, exchanged...</td>\n",
       "      <td>my first post ! no word were exchanged in this...</td>\n",
       "    </tr>\n",
       "    <tr>\n",
       "      <th>2499</th>\n",
       "      <td>Background info: I’m in college and my dorm is...</td>\n",
       "      <td>WRONG</td>\n",
       "      <td>1</td>\n",
       "      <td>Background info: I’m in college and my dorm is...</td>\n",
       "      <td>background info: i am in college and my dorm i...</td>\n",
       "      <td>[background, info, :, i, am, in, college, and,...</td>\n",
       "      <td>[background, info, :, i, am, in, college, and,...</td>\n",
       "      <td>background info : i am in college and my dorm ...</td>\n",
       "    </tr>\n",
       "  </tbody>\n",
       "</table>\n",
       "<p>2343 rows × 8 columns</p>\n",
       "</div>"
      ],
      "text/plain": [
       "                                                   text binarized_label  \\\n",
       "0     My boyfriend (well just call him M) and I are ...           RIGHT   \n",
       "2      \\n\\nMy really good friend is getting married....           RIGHT   \n",
       "3     I've been very lonely for a long time, few fri...           RIGHT   \n",
       "4     Alt account because friends know my real one. ...           RIGHT   \n",
       "5     Pretty much was hanging out with two friends. ...           WRONG   \n",
       "...                                                 ...             ...   \n",
       "2494  For reference we're both juniors at a T20 coll...           WRONG   \n",
       "2495  So this just happened and I'm a little taken a...           WRONG   \n",
       "2497  So, I've been friends with someone for a few y...           RIGHT   \n",
       "2498  My first post!\\n\\nNo words were exchanged in t...           RIGHT   \n",
       "2499  Background info: I’m in college and my dorm is...           WRONG   \n",
       "\n",
       "      num_binarized_label                                              clean  \\\n",
       "0                       0  My boyfriend (well just call him M) and I are ...   \n",
       "2                       0     My really good friend is getting married. Y...   \n",
       "3                       0  I've been very lonely for a long time, few fri...   \n",
       "4                       0  Alt account because friends know my real one. ...   \n",
       "5                       1  Pretty much was hanging out with two friends. ...   \n",
       "...                   ...                                                ...   \n",
       "2494                    1  For reference we're both juniors at a T20 coll...   \n",
       "2495                    1  So this just happened and I'm a little taken a...   \n",
       "2497                    0  So, I've been friends with someone for a few y...   \n",
       "2498                    0  My first post!  No words were exchanged in thi...   \n",
       "2499                    1  Background info: I’m in college and my dorm is...   \n",
       "\n",
       "                                                  lower  \\\n",
       "0     my boyfriend (well just call him m) and i are ...   \n",
       "2        my really good friend is getting married. y...   \n",
       "3     i have been very lonely for a long time, few f...   \n",
       "4     alt account because friends know my real one. ...   \n",
       "5     pretty much was hanging out with two friends. ...   \n",
       "...                                                 ...   \n",
       "2494  for reference we are both juniors at a t20 col...   \n",
       "2495  so this just happened and i am a little taken ...   \n",
       "2497  so, i have been friends with someone for a few...   \n",
       "2498  my first post!  no words were exchanged in thi...   \n",
       "2499  background info: i am in college and my dorm i...   \n",
       "\n",
       "                                              tokenized  \\\n",
       "0     [my, boyfriend, (, well, just, call, him, m, )...   \n",
       "2     [my, really, good, friend, is, getting, marrie...   \n",
       "3     [i, have, been, very, lonely, for, a, long, ti...   \n",
       "4     [alt, account, because, friends, know, my, rea...   \n",
       "5     [pretty, much, was, hanging, out, with, two, f...   \n",
       "...                                                 ...   \n",
       "2494  [for, reference, we, are, both, juniors, at, a...   \n",
       "2495  [so, this, just, happened, and, i, am, a, litt...   \n",
       "2497  [so, ,, i, have, been, friends, with, someone,...   \n",
       "2498  [my, first, post, !, no, words, were, exchange...   \n",
       "2499  [background, info, :, i, am, in, college, and,...   \n",
       "\n",
       "                                  lemmatize_word_wo_pos  \\\n",
       "0     [my, boyfriend, (, well, just, call, him, m, )...   \n",
       "2     [my, really, good, friend, is, getting, marrie...   \n",
       "3     [i, have, been, very, lonely, for, a, long, ti...   \n",
       "4     [alt, account, because, friend, know, my, real...   \n",
       "5     [pretty, much, wa, hanging, out, with, two, fr...   \n",
       "...                                                 ...   \n",
       "2494  [for, reference, we, are, both, junior, at, a,...   \n",
       "2495  [so, this, just, happened, and, i, am, a, litt...   \n",
       "2497  [so, ,, i, have, been, friend, with, someone, ...   \n",
       "2498  [my, first, post, !, no, word, were, exchanged...   \n",
       "2499  [background, info, :, i, am, in, college, and,...   \n",
       "\n",
       "                                                 clean1  \n",
       "0     my boyfriend ( well just call him m ) and i ar...  \n",
       "2     my really good friend is getting married . yay...  \n",
       "3     i have been very lonely for a long time , few ...  \n",
       "4     alt account because friend know my real one . ...  \n",
       "5     pretty much wa hanging out with two friend . i...  \n",
       "...                                                 ...  \n",
       "2494  for reference we are both junior at a t20 coll...  \n",
       "2495  so this just happened and i am a little taken ...  \n",
       "2497  so , i have been friend with someone for a few...  \n",
       "2498  my first post ! no word were exchanged in this...  \n",
       "2499  background info : i am in college and my dorm ...  \n",
       "\n",
       "[2343 rows x 8 columns]"
      ]
     },
     "execution_count": 36,
     "metadata": {},
     "output_type": "execute_result"
    }
   ],
   "source": [
    "dev_df"
   ]
  },
  {
   "cell_type": "code",
   "execution_count": 37,
   "metadata": {
    "colab": {
     "base_uri": "https://localhost:8080/",
     "height": 1000
    },
    "id": "4fNXEbcJpNCT",
    "outputId": "e536e11f-2877-4184-9eb3-a0083af42595"
   },
   "outputs": [
    {
     "data": {
      "text/html": [
       "<div>\n",
       "<style scoped>\n",
       "    .dataframe tbody tr th:only-of-type {\n",
       "        vertical-align: middle;\n",
       "    }\n",
       "\n",
       "    .dataframe tbody tr th {\n",
       "        vertical-align: top;\n",
       "    }\n",
       "\n",
       "    .dataframe thead th {\n",
       "        text-align: right;\n",
       "    }\n",
       "</style>\n",
       "<table border=\"1\" class=\"dataframe\">\n",
       "  <thead>\n",
       "    <tr style=\"text-align: right;\">\n",
       "      <th></th>\n",
       "      <th>text</th>\n",
       "      <th>binarized_label</th>\n",
       "      <th>num_binarized_label</th>\n",
       "      <th>clean</th>\n",
       "      <th>lower</th>\n",
       "      <th>tokenized</th>\n",
       "      <th>lemmatize_word_wo_pos</th>\n",
       "      <th>clean1</th>\n",
       "    </tr>\n",
       "  </thead>\n",
       "  <tbody>\n",
       "    <tr>\n",
       "      <th>1659</th>\n",
       "      <td>2 years ago, I was in high school and dated a ...</td>\n",
       "      <td>RIGHT</td>\n",
       "      <td>0</td>\n",
       "      <td>2 years ago, I was in high school and dated a ...</td>\n",
       "      <td>2 years ago, i was in high school and dated a ...</td>\n",
       "      <td>[2, years, ago, ,, i, was, in, high, school, a...</td>\n",
       "      <td>[2, year, ago, ,, i, wa, in, high, school, and...</td>\n",
       "      <td>2 year ago , i wa in high school and dated a g...</td>\n",
       "    </tr>\n",
       "    <tr>\n",
       "      <th>3911</th>\n",
       "      <td>TLDR: My (22F) aunt (54F) thinks that I gained...</td>\n",
       "      <td>RIGHT</td>\n",
       "      <td>0</td>\n",
       "      <td>TLDR: My (22F) aunt (54F) thinks that I gained...</td>\n",
       "      <td>tldr: my (22f) aunt (54f) thinks that i gained...</td>\n",
       "      <td>[tldr, :, my, (, 22f, ), aunt, (, 54f, ), thin...</td>\n",
       "      <td>[tldr, :, my, (, 22f, ), aunt, (, 54f, ), thin...</td>\n",
       "      <td>tldr : my ( 22f ) aunt ( 54f ) think that i ga...</td>\n",
       "    </tr>\n",
       "    <tr>\n",
       "      <th>433</th>\n",
       "      <td>I made a post on r/MaliciousCompliance yesterd...</td>\n",
       "      <td>RIGHT</td>\n",
       "      <td>0</td>\n",
       "      <td>I made a post on r/MaliciousCompliance yesterd...</td>\n",
       "      <td>i made a post on r/maliciouscompliance yesterd...</td>\n",
       "      <td>[i, made, a, post, on, r/maliciouscompliance, ...</td>\n",
       "      <td>[i, made, a, post, on, r/maliciouscompliance, ...</td>\n",
       "      <td>i made a post on r/maliciouscompliance yesterd...</td>\n",
       "    </tr>\n",
       "    <tr>\n",
       "      <th>9283</th>\n",
       "      <td>I went to an (American) College Football bowl ...</td>\n",
       "      <td>WRONG</td>\n",
       "      <td>1</td>\n",
       "      <td>I went to an (American) College Football bowl ...</td>\n",
       "      <td>i went to an (american) college football bowl ...</td>\n",
       "      <td>[i, went, to, an, (, american, ), college, foo...</td>\n",
       "      <td>[i, went, to, an, (, american, ), college, foo...</td>\n",
       "      <td>i went to an ( american ) college football bow...</td>\n",
       "    </tr>\n",
       "    <tr>\n",
       "      <th>11147</th>\n",
       "      <td>Sorry for my poor english knowledge and format...</td>\n",
       "      <td>WRONG</td>\n",
       "      <td>1</td>\n",
       "      <td>Sorry for my poor english knowledge and format...</td>\n",
       "      <td>sorry for my poor english knowledge and format...</td>\n",
       "      <td>[sorry, for, my, poor, english, knowledge, and...</td>\n",
       "      <td>[sorry, for, my, poor, english, knowledge, and...</td>\n",
       "      <td>sorry for my poor english knowledge and format...</td>\n",
       "    </tr>\n",
       "    <tr>\n",
       "      <th>...</th>\n",
       "      <td>...</td>\n",
       "      <td>...</td>\n",
       "      <td>...</td>\n",
       "      <td>...</td>\n",
       "      <td>...</td>\n",
       "      <td>...</td>\n",
       "      <td>...</td>\n",
       "      <td>...</td>\n",
       "    </tr>\n",
       "    <tr>\n",
       "      <th>9457</th>\n",
       "      <td>Here is a little background info before I get ...</td>\n",
       "      <td>WRONG</td>\n",
       "      <td>1</td>\n",
       "      <td>Here is a little background info before I get ...</td>\n",
       "      <td>here is a little background info before i get ...</td>\n",
       "      <td>[here, is, a, little, background, info, before...</td>\n",
       "      <td>[here, is, a, little, background, info, before...</td>\n",
       "      <td>here is a little background info before i get ...</td>\n",
       "    </tr>\n",
       "    <tr>\n",
       "      <th>6095</th>\n",
       "      <td>About 6 months ago, I was selling a camera len...</td>\n",
       "      <td>WRONG</td>\n",
       "      <td>1</td>\n",
       "      <td>About 6 months ago, I was selling a camera len...</td>\n",
       "      <td>about 6 months ago, i was selling a camera len...</td>\n",
       "      <td>[about, 6, months, ago, ,, i, was, selling, a,...</td>\n",
       "      <td>[about, 6, month, ago, ,, i, wa, selling, a, c...</td>\n",
       "      <td>about 6 month ago , i wa selling a camera lens...</td>\n",
       "    </tr>\n",
       "    <tr>\n",
       "      <th>2399</th>\n",
       "      <td>So next Sunday, my father is meeting this guy ...</td>\n",
       "      <td>RIGHT</td>\n",
       "      <td>0</td>\n",
       "      <td>So next Sunday, my father is meeting this guy ...</td>\n",
       "      <td>so next sunday, my father is meeting this guy ...</td>\n",
       "      <td>[so, next, sunday, ,, my, father, is, meeting,...</td>\n",
       "      <td>[so, next, sunday, ,, my, father, is, meeting,...</td>\n",
       "      <td>so next sunday , my father is meeting this guy...</td>\n",
       "    </tr>\n",
       "    <tr>\n",
       "      <th>482</th>\n",
       "      <td>This is gonna be a long one, so I'll put a tl:...</td>\n",
       "      <td>RIGHT</td>\n",
       "      <td>0</td>\n",
       "      <td>This is gonna be a long one, so I'll put a tl:...</td>\n",
       "      <td>this is going to be a long one, so i will put ...</td>\n",
       "      <td>[this, is, going, to, be, a, long, one, ,, so,...</td>\n",
       "      <td>[this, is, going, to, be, a, long, one, ,, so,...</td>\n",
       "      <td>this is going to be a long one , so i will put...</td>\n",
       "    </tr>\n",
       "    <tr>\n",
       "      <th>4526</th>\n",
       "      <td>For context, I'm a man. I have a few friends w...</td>\n",
       "      <td>RIGHT</td>\n",
       "      <td>0</td>\n",
       "      <td>For context, I'm a man. I have a few friends w...</td>\n",
       "      <td>for context, i am a man. i have a few friends ...</td>\n",
       "      <td>[for, context, ,, i, am, a, man, ., i, have, a...</td>\n",
       "      <td>[for, context, ,, i, am, a, man, ., i, have, a...</td>\n",
       "      <td>for context , i am a man . i have a few friend...</td>\n",
       "    </tr>\n",
       "  </tbody>\n",
       "</table>\n",
       "<p>11476 rows × 8 columns</p>\n",
       "</div>"
      ],
      "text/plain": [
       "                                                    text binarized_label  \\\n",
       "1659   2 years ago, I was in high school and dated a ...           RIGHT   \n",
       "3911   TLDR: My (22F) aunt (54F) thinks that I gained...           RIGHT   \n",
       "433    I made a post on r/MaliciousCompliance yesterd...           RIGHT   \n",
       "9283   I went to an (American) College Football bowl ...           WRONG   \n",
       "11147  Sorry for my poor english knowledge and format...           WRONG   \n",
       "...                                                  ...             ...   \n",
       "9457   Here is a little background info before I get ...           WRONG   \n",
       "6095   About 6 months ago, I was selling a camera len...           WRONG   \n",
       "2399   So next Sunday, my father is meeting this guy ...           RIGHT   \n",
       "482    This is gonna be a long one, so I'll put a tl:...           RIGHT   \n",
       "4526   For context, I'm a man. I have a few friends w...           RIGHT   \n",
       "\n",
       "       num_binarized_label                                              clean  \\\n",
       "1659                     0  2 years ago, I was in high school and dated a ...   \n",
       "3911                     0  TLDR: My (22F) aunt (54F) thinks that I gained...   \n",
       "433                      0  I made a post on r/MaliciousCompliance yesterd...   \n",
       "9283                     1  I went to an (American) College Football bowl ...   \n",
       "11147                    1  Sorry for my poor english knowledge and format...   \n",
       "...                    ...                                                ...   \n",
       "9457                     1  Here is a little background info before I get ...   \n",
       "6095                     1  About 6 months ago, I was selling a camera len...   \n",
       "2399                     0  So next Sunday, my father is meeting this guy ...   \n",
       "482                      0  This is gonna be a long one, so I'll put a tl:...   \n",
       "4526                     0  For context, I'm a man. I have a few friends w...   \n",
       "\n",
       "                                                   lower  \\\n",
       "1659   2 years ago, i was in high school and dated a ...   \n",
       "3911   tldr: my (22f) aunt (54f) thinks that i gained...   \n",
       "433    i made a post on r/maliciouscompliance yesterd...   \n",
       "9283   i went to an (american) college football bowl ...   \n",
       "11147  sorry for my poor english knowledge and format...   \n",
       "...                                                  ...   \n",
       "9457   here is a little background info before i get ...   \n",
       "6095   about 6 months ago, i was selling a camera len...   \n",
       "2399   so next sunday, my father is meeting this guy ...   \n",
       "482    this is going to be a long one, so i will put ...   \n",
       "4526   for context, i am a man. i have a few friends ...   \n",
       "\n",
       "                                               tokenized  \\\n",
       "1659   [2, years, ago, ,, i, was, in, high, school, a...   \n",
       "3911   [tldr, :, my, (, 22f, ), aunt, (, 54f, ), thin...   \n",
       "433    [i, made, a, post, on, r/maliciouscompliance, ...   \n",
       "9283   [i, went, to, an, (, american, ), college, foo...   \n",
       "11147  [sorry, for, my, poor, english, knowledge, and...   \n",
       "...                                                  ...   \n",
       "9457   [here, is, a, little, background, info, before...   \n",
       "6095   [about, 6, months, ago, ,, i, was, selling, a,...   \n",
       "2399   [so, next, sunday, ,, my, father, is, meeting,...   \n",
       "482    [this, is, going, to, be, a, long, one, ,, so,...   \n",
       "4526   [for, context, ,, i, am, a, man, ., i, have, a...   \n",
       "\n",
       "                                   lemmatize_word_wo_pos  \\\n",
       "1659   [2, year, ago, ,, i, wa, in, high, school, and...   \n",
       "3911   [tldr, :, my, (, 22f, ), aunt, (, 54f, ), thin...   \n",
       "433    [i, made, a, post, on, r/maliciouscompliance, ...   \n",
       "9283   [i, went, to, an, (, american, ), college, foo...   \n",
       "11147  [sorry, for, my, poor, english, knowledge, and...   \n",
       "...                                                  ...   \n",
       "9457   [here, is, a, little, background, info, before...   \n",
       "6095   [about, 6, month, ago, ,, i, wa, selling, a, c...   \n",
       "2399   [so, next, sunday, ,, my, father, is, meeting,...   \n",
       "482    [this, is, going, to, be, a, long, one, ,, so,...   \n",
       "4526   [for, context, ,, i, am, a, man, ., i, have, a...   \n",
       "\n",
       "                                                  clean1  \n",
       "1659   2 year ago , i wa in high school and dated a g...  \n",
       "3911   tldr : my ( 22f ) aunt ( 54f ) think that i ga...  \n",
       "433    i made a post on r/maliciouscompliance yesterd...  \n",
       "9283   i went to an ( american ) college football bow...  \n",
       "11147  sorry for my poor english knowledge and format...  \n",
       "...                                                  ...  \n",
       "9457   here is a little background info before i get ...  \n",
       "6095   about 6 month ago , i wa selling a camera lens...  \n",
       "2399   so next sunday , my father is meeting this guy...  \n",
       "482    this is going to be a long one , so i will put...  \n",
       "4526   for context , i am a man . i have a few friend...  \n",
       "\n",
       "[11476 rows x 8 columns]"
      ]
     },
     "execution_count": 37,
     "metadata": {},
     "output_type": "execute_result"
    }
   ],
   "source": [
    "train_df"
   ]
  },
  {
   "cell_type": "markdown",
   "metadata": {
    "id": "qzrytz0cM-Z3"
   },
   "source": [
    "# **DistilBert**"
   ]
  },
  {
   "cell_type": "code",
   "execution_count": 38,
   "metadata": {
    "id": "Y0CjjjqNS54U"
   },
   "outputs": [],
   "source": [
    "#https://www.kaggle.com/code/madz2000/sentiment-analysis-cleaning-eda-bert-88-acc#BERT-WORKING#\n",
    "import torch\n",
    "import transformers as ppb # pytorch transformers"
   ]
  },
  {
   "cell_type": "code",
   "execution_count": 39,
   "metadata": {
    "colab": {
     "base_uri": "https://localhost:8080/"
    },
    "id": "JO7hxU_gG_xh",
    "outputId": "a9c6d880-c62e-4245-b3bf-b64731804916"
   },
   "outputs": [
    {
     "data": {
      "text/plain": [
       "Tokenizer(vocabulary_size=30522, model=BertWordPiece, unk_token=[UNK], sep_token=[SEP], cls_token=[CLS], pad_token=[PAD], mask_token=[MASK], clean_text=True, handle_chinese_chars=True, strip_accents=None, lowercase=True, wordpieces_prefix=##)"
      ]
     },
     "execution_count": 39,
     "metadata": {},
     "output_type": "execute_result"
    }
   ],
   "source": [
    "from tokenizers import BertWordPieceTokenizer\n",
    "\n",
    "from transformers import BertTokenizer, TFBertModel\n",
    "tokenizer = BertTokenizer.from_pretrained('bert-base-uncased')\n",
    "\n",
    "# First load the real tokenizer\n",
    "#tokenizer = transformers.DistilBertTokenizer.from_pretrained('distilbert-base-uncased' , lower = True)\n",
    "# Save the loaded tokenizer locally\n",
    "tokenizer.save_pretrained('.')\n",
    "# Reload it with the huggingface tokenizers library\n",
    "fast_tokenizer = BertWordPieceTokenizer('vocab.txt', lowercase=True)\n",
    "fast_tokenizer\n",
    "\n"
   ]
  },
  {
   "cell_type": "code",
   "execution_count": 40,
   "metadata": {
    "id": "udeFk3n4G_sj"
   },
   "outputs": [],
   "source": [
    "def fast_encode(texts, tokenizer, chunk_size=256, maxlen=1024):\n",
    "\n",
    "    tokenizer.enable_truncation(max_length=maxlen)\n",
    "    tokenizer.enable_padding()\n",
    "    all_ids = []\n",
    "    \n",
    "    for i in range(0, len(texts), chunk_size):\n",
    "        text_chunk = texts[i:i+chunk_size].tolist()\n",
    "        encs = tokenizer.encode_batch(text_chunk)\n",
    "        all_ids.extend([enc.ids for enc in encs])\n",
    "    \n",
    "    return np.array(all_ids)"
   ]
  },
  {
   "cell_type": "code",
   "execution_count": 41,
   "metadata": {
    "id": "_VD_qWCxH0kf"
   },
   "outputs": [],
   "source": [
    "x_train = train_df['clean1']\n",
    "x_dev = dev_df['clean1']\n",
    "x_test = test_df['clean1']\n",
    "\n",
    "x_train = fast_encode(x_train.values, fast_tokenizer)\n",
    "x_dev = fast_encode(x_dev.values, fast_tokenizer)\n",
    "x_test = fast_encode(x_test.values, fast_tokenizer)"
   ]
  },
  {
   "cell_type": "code",
   "execution_count": 42,
   "metadata": {},
   "outputs": [],
   "source": [
    "# https://stackoverflow.com/questions/53051560/stacking-numpy-arrays-of-different-length-using-padding\n",
    "import itertools\n",
    "def stack_padding(l):\n",
    "    return np.column_stack((itertools.zip_longest(*l, fillvalue=0)))\n",
    "\n",
    "x_train = stack_padding(x_train)\n",
    "x_dev = stack_padding(x_dev)\n",
    "x_test = stack_padding(x_test)"
   ]
  },
  {
   "cell_type": "code",
   "execution_count": 43,
   "metadata": {
    "id": "0VGrKfAbI2yj"
   },
   "outputs": [],
   "source": [
    "y_train = train_df['num_binarized_label']\n",
    "y_dev = dev_df['num_binarized_label']\n",
    "y_test = test_df['num_binarized_label']"
   ]
  },
  {
   "cell_type": "code",
   "execution_count": 44,
   "metadata": {
    "id": "PS8NIm1oIip8"
   },
   "outputs": [],
   "source": [
    "from tensorflow.keras.optimizers.legacy import Adam\n",
    "\n",
    "def build_model(transformer, max_len = 1024):\n",
    "    \n",
    "    input_word_ids = Input(shape=(max_len,), dtype=tf.int32, name=\"input_word_ids\")\n",
    "    sequence_output = transformer(input_word_ids)[0]\n",
    "    cls_token = sequence_output[:, 0, :]\n",
    "    out = Dense(1, activation='sigmoid')(cls_token)\n",
    "    \n",
    "    model = Model(inputs=input_word_ids, outputs=out)\n",
    "    model.compile(Adam(lr=2e-7), loss='binary_crossentropy', metrics=['accuracy'])\n",
    "    \n",
    "    return model"
   ]
  },
  {
   "cell_type": "code",
   "execution_count": 45,
   "metadata": {
    "colab": {
     "base_uri": "https://localhost:8080/"
    },
    "id": "a1AAGObbIk8w",
    "outputId": "4a2ee973-6d4e-4398-a624-d18417343bb3"
   },
   "outputs": [
    {
     "name": "stderr",
     "output_type": "stream",
     "text": [
      "2023-01-25 12:53:38.210272: I tensorflow/core/platform/cpu_feature_guard.cc:193] This TensorFlow binary is optimized with oneAPI Deep Neural Network Library (oneDNN) to use the following CPU instructions in performance-critical operations:  AVX2 AVX512F AVX512_VNNI FMA\n",
      "To enable them in other operations, rebuild TensorFlow with the appropriate compiler flags.\n",
      "2023-01-25 12:54:01.470041: I tensorflow/core/common_runtime/gpu/gpu_device.cc:1613] Created device /job:localhost/replica:0/task:0/device:GPU:0 with 30607 MB memory:  -> device: 0, name: Tesla V100-SXM2-32GB, pci bus id: 0000:18:00.0, compute capability: 7.0\n",
      "2023-01-25 12:54:01.505911: I tensorflow/core/common_runtime/gpu/gpu_device.cc:1613] Created device /job:localhost/replica:0/task:0/device:GPU:1 with 30607 MB memory:  -> device: 1, name: Tesla V100-SXM2-32GB, pci bus id: 0000:3b:00.0, compute capability: 7.0\n",
      "Some layers from the model checkpoint at bert-base-uncased were not used when initializing TFBertModel: ['nsp___cls', 'mlm___cls']\n",
      "- This IS expected if you are initializing TFBertModel from the checkpoint of a model trained on another task or with another architecture (e.g. initializing a BertForSequenceClassification model from a BertForPreTraining model).\n",
      "- This IS NOT expected if you are initializing TFBertModel from the checkpoint of a model that you expect to be exactly identical (initializing a BertForSequenceClassification model from a BertForSequenceClassification model).\n",
      "All the layers of TFBertModel were initialized from the model checkpoint at bert-base-uncased.\n",
      "If your task is similar to the task the model of the checkpoint was trained on, you can already use TFBertModel for predictions without further training.\n"
     ]
    }
   ],
   "source": [
    "# bert_model = transformers.TFDistilBertModel.from_pretrained('distilbert-base-uncased')\n",
    "bert_model = TFBertModel.from_pretrained(\"bert-base-uncased\")"
   ]
  },
  {
   "cell_type": "code",
   "execution_count": 46,
   "metadata": {
    "colab": {
     "base_uri": "https://localhost:8080/"
    },
    "id": "FwAWgwppItR0",
    "outputId": "7dab467b-d118-4f78-a76b-2e3288198e71"
   },
   "outputs": [
    {
     "name": "stdout",
     "output_type": "stream",
     "text": [
      "Model: \"model\"\n",
      "_________________________________________________________________\n",
      " Layer (type)                Output Shape              Param #   \n",
      "=================================================================\n",
      " input_word_ids (InputLayer)  [(None, 1024)]           0         \n",
      "                                                                 \n",
      " tf_bert_model (TFBertModel)  TFBaseModelOutputWithPoo  109482240\n",
      "                             lingAndCrossAttentions(l            \n",
      "                             ast_hidden_state=(None,             \n",
      "                             1024, 768),                         \n",
      "                              pooler_output=(None, 76            \n",
      "                             8),                                 \n",
      "                              past_key_values=None, h            \n",
      "                             idden_states=None, atten            \n",
      "                             tions=None, cross_attent            \n",
      "                             ions=None)                          \n",
      "                                                                 \n",
      " tf.__operators__.getitem (S  (None, 768)              0         \n",
      " licingOpLambda)                                                 \n",
      "                                                                 \n",
      " dense (Dense)               (None, 1)                 769       \n",
      "                                                                 \n",
      "=================================================================\n",
      "Total params: 109,483,009\n",
      "Trainable params: 109,483,009\n",
      "Non-trainable params: 0\n",
      "_________________________________________________________________\n"
     ]
    }
   ],
   "source": [
    "model = build_model(bert_model, max_len=1024)\n",
    "model.summary()"
   ]
  },
  {
   "cell_type": "code",
   "execution_count": 47,
   "metadata": {
    "colab": {
     "base_uri": "https://localhost:8080/"
    },
    "id": "g10vX9qnIyGI",
    "outputId": "1d15f73e-1480-4109-d380-c85194a5246b"
   },
   "outputs": [
    {
     "name": "stdout",
     "output_type": "stream",
     "text": [
      "Epoch 1/30\n",
      "WARNING:tensorflow:Gradients do not exist for variables ['tf_bert_model/bert/pooler/dense/kernel:0', 'tf_bert_model/bert/pooler/dense/bias:0'] when minimizing the loss. If you're using `model.compile()`, did you forget to provide a `loss` argument?\n",
      "WARNING:tensorflow:Gradients do not exist for variables ['tf_bert_model/bert/pooler/dense/kernel:0', 'tf_bert_model/bert/pooler/dense/bias:0'] when minimizing the loss. If you're using `model.compile()`, did you forget to provide a `loss` argument?\n",
      "1435/1435 [==============================] - 1208s 825ms/step - loss: 0.7031 - accuracy: 0.5013 - val_loss: 0.6190 - val_accuracy: 0.7516\n",
      "Epoch 2/30\n",
      "1435/1435 [==============================] - 1184s 825ms/step - loss: 0.6947 - accuracy: 0.5220 - val_loss: 0.6277 - val_accuracy: 0.7614\n",
      "Epoch 3/30\n",
      "1435/1435 [==============================] - 1181s 823ms/step - loss: 0.6933 - accuracy: 0.5248 - val_loss: 0.6660 - val_accuracy: 0.6667\n",
      "Epoch 4/30\n",
      "1435/1435 [==============================] - 1183s 825ms/step - loss: 0.6915 - accuracy: 0.5276 - val_loss: 0.6479 - val_accuracy: 0.6863\n",
      "Epoch 5/30\n",
      "1435/1435 [==============================] - 1194s 832ms/step - loss: 0.6907 - accuracy: 0.5283 - val_loss: 0.6562 - val_accuracy: 0.6761\n",
      "Epoch 6/30\n",
      "1435/1435 [==============================] - 1197s 834ms/step - loss: 0.6873 - accuracy: 0.5418 - val_loss: 0.6295 - val_accuracy: 0.7213\n",
      "Epoch 7/30\n",
      "1435/1435 [==============================] - 1184s 825ms/step - loss: 0.6868 - accuracy: 0.5458 - val_loss: 0.6350 - val_accuracy: 0.7047\n",
      "Epoch 8/30\n",
      "1435/1435 [==============================] - 1193s 831ms/step - loss: 0.6848 - accuracy: 0.5511 - val_loss: 0.6539 - val_accuracy: 0.6385\n",
      "Epoch 9/30\n",
      "1435/1435 [==============================] - 1194s 832ms/step - loss: 0.6813 - accuracy: 0.5606 - val_loss: 0.6437 - val_accuracy: 0.6475\n",
      "Epoch 10/30\n",
      "1435/1435 [==============================] - 1192s 831ms/step - loss: 0.6781 - accuracy: 0.5658 - val_loss: 0.6432 - val_accuracy: 0.6368\n",
      "Epoch 11/30\n",
      "1435/1435 [==============================] - 1199s 836ms/step - loss: 0.6768 - accuracy: 0.5766 - val_loss: 0.6369 - val_accuracy: 0.6492\n",
      "Epoch 12/30\n",
      "1435/1435 [==============================] - 1185s 826ms/step - loss: 0.6742 - accuracy: 0.5712 - val_loss: 0.6802 - val_accuracy: 0.5630\n",
      "Epoch 13/30\n",
      "1435/1435 [==============================] - 1190s 829ms/step - loss: 0.6731 - accuracy: 0.5770 - val_loss: 0.5883 - val_accuracy: 0.7123\n",
      "Epoch 14/30\n",
      "1435/1435 [==============================] - 1184s 825ms/step - loss: 0.6719 - accuracy: 0.5810 - val_loss: 0.5996 - val_accuracy: 0.7098\n",
      "Epoch 15/30\n",
      "1435/1435 [==============================] - 1184s 825ms/step - loss: 0.6680 - accuracy: 0.5911 - val_loss: 0.6292 - val_accuracy: 0.6539\n",
      "Epoch 16/30\n",
      "1435/1435 [==============================] - 1183s 824ms/step - loss: 0.6675 - accuracy: 0.5925 - val_loss: 0.6062 - val_accuracy: 0.6957\n",
      "Epoch 17/30\n",
      "1435/1435 [==============================] - 1183s 825ms/step - loss: 0.6641 - accuracy: 0.5964 - val_loss: 0.6411 - val_accuracy: 0.6265\n",
      "Epoch 18/30\n",
      "1435/1435 [==============================] - 1185s 826ms/step - loss: 0.6602 - accuracy: 0.6054 - val_loss: 0.6293 - val_accuracy: 0.6458\n",
      "Epoch 19/30\n",
      "1435/1435 [==============================] - 1185s 826ms/step - loss: 0.6586 - accuracy: 0.6066 - val_loss: 0.5890 - val_accuracy: 0.7051\n",
      "Epoch 20/30\n",
      "1435/1435 [==============================] - 1187s 827ms/step - loss: 0.6572 - accuracy: 0.6124 - val_loss: 0.5909 - val_accuracy: 0.7008\n",
      "Epoch 21/30\n",
      "1435/1435 [==============================] - 1191s 830ms/step - loss: 0.6559 - accuracy: 0.6083 - val_loss: 0.5779 - val_accuracy: 0.7085\n",
      "Epoch 22/30\n",
      "1435/1435 [==============================] - 1190s 829ms/step - loss: 0.6540 - accuracy: 0.6149 - val_loss: 0.6280 - val_accuracy: 0.6509\n",
      "Epoch 23/30\n",
      "1435/1435 [==============================] - 1198s 834ms/step - loss: 0.6485 - accuracy: 0.6256 - val_loss: 0.6362 - val_accuracy: 0.6342\n",
      "Epoch 24/30\n",
      "1435/1435 [==============================] - 1196s 833ms/step - loss: 0.6467 - accuracy: 0.6224 - val_loss: 0.6251 - val_accuracy: 0.6496\n",
      "Epoch 25/30\n",
      "1435/1435 [==============================] - 1246s 868ms/step - loss: 0.6447 - accuracy: 0.6275 - val_loss: 0.6163 - val_accuracy: 0.6633\n",
      "Epoch 26/30\n",
      "1435/1435 [==============================] - 1242s 866ms/step - loss: 0.6451 - accuracy: 0.6292 - val_loss: 0.6312 - val_accuracy: 0.6466\n",
      "Epoch 27/30\n",
      "1435/1435 [==============================] - 1245s 867ms/step - loss: 0.6384 - accuracy: 0.6366 - val_loss: 0.5999 - val_accuracy: 0.6833\n",
      "Epoch 28/30\n",
      "1435/1435 [==============================] - 1284s 895ms/step - loss: 0.6366 - accuracy: 0.6356 - val_loss: 0.6405 - val_accuracy: 0.6308\n",
      "Epoch 29/30\n",
      "1435/1435 [==============================] - 1253s 874ms/step - loss: 0.6339 - accuracy: 0.6371 - val_loss: 0.6399 - val_accuracy: 0.6411\n",
      "Epoch 30/30\n",
      "1435/1435 [==============================] - 1280s 892ms/step - loss: 0.6326 - accuracy: 0.6399 - val_loss: 0.6083 - val_accuracy: 0.6752\n"
     ]
    }
   ],
   "source": [
    "history = model.fit(x_train,y_train,batch_size = 8 ,validation_data=(x_dev,y_dev),epochs = 30)"
   ]
  },
  {
   "cell_type": "code",
   "execution_count": 48,
   "metadata": {
    "colab": {
     "base_uri": "https://localhost:8080/",
     "height": 621
    },
    "id": "JMslHSc-XzEx",
    "outputId": "126902f3-8c8f-44ab-f891-1153691dada4"
   },
   "outputs": [
    {
     "data": {
      "image/png": "[encoded data removed]",
      "text/plain": [
       "<Figure size 1440x720 with 2 Axes>"
      ]
     },
     "metadata": {
      "needs_background": "light"
     },
     "output_type": "display_data"
    }
   ],
   "source": [
    "\n",
    "\n",
    "epochs = [i for i in range(30)]\n",
    "fig , ax = plt.subplots(1,2)\n",
    "train_acc = history.history['accuracy']\n",
    "train_loss = history.history['loss']\n",
    "val_acc = history.history['val_accuracy']\n",
    "val_loss = history.history['val_loss']\n",
    "fig.set_size_inches(20,10)\n",
    "\n",
    "ax[0].plot(epochs , train_acc , 'go-' , label = 'Training Accuracy')\n",
    "ax[0].plot(epochs , val_acc , 'ro-' , label = 'Testing Accuracy')\n",
    "ax[0].set_title('Training & Testing Accuracy')\n",
    "ax[0].legend()\n",
    "ax[0].set_xlabel(\"Epochs\")\n",
    "ax[0].set_ylabel(\"Accuracy\")\n",
    "\n",
    "ax[1].plot(epochs , train_loss , 'go-' , label = 'Training Loss')\n",
    "ax[1].plot(epochs , val_loss , 'ro-' , label = 'Testing Loss')\n",
    "ax[1].set_title('Training & Testing Loss')\n",
    "ax[1].legend()\n",
    "ax[1].set_xlabel(\"Epochs\")\n",
    "ax[1].set_ylabel(\"Loss\")\n",
    "plt.show()\n",
    "\n"
   ]
  },
  {
   "cell_type": "code",
   "execution_count": 49,
   "metadata": {
    "colab": {
     "base_uri": "https://localhost:8080/"
    },
    "id": "NzYYFMRhX_fT",
    "outputId": "e6d432fb-d508-4226-b2f5-5b8bb47c935b"
   },
   "outputs": [
    {
     "name": "stdout",
     "output_type": "stream",
     "text": [
      "74/74 [==============================] - 83s 1s/step\n"
     ]
    },
    {
     "data": {
      "text/plain": [
       "array([[0.10988598],\n",
       "       [0.5109687 ],\n",
       "       [0.4209749 ],\n",
       "       [0.5334685 ],\n",
       "       [0.54720736]], dtype=float32)"
      ]
     },
     "execution_count": 49,
     "metadata": {},
     "output_type": "execute_result"
    }
   ],
   "source": [
    "pred = model.predict(x_test)\n",
    "pred[:5]"
   ]
  },
  {
   "cell_type": "code",
   "execution_count": 50,
   "metadata": {
    "colab": {
     "base_uri": "https://localhost:8080/"
    },
    "id": "gyE_R-y6X_cI",
    "outputId": "e98bed06-aa60-4fe4-c6ff-b68579f65b28"
   },
   "outputs": [
    {
     "data": {
      "text/plain": [
       "array([[0],\n",
       "       [1],\n",
       "       [0],\n",
       "       [1],\n",
       "       [1]])"
      ]
     },
     "execution_count": 50,
     "metadata": {},
     "output_type": "execute_result"
    }
   ],
   "source": [
    "pred = np.round(pred).astype(int)\n",
    "pred[:5]"
   ]
  },
  {
   "cell_type": "code",
   "execution_count": 51,
   "metadata": {
    "colab": {
     "base_uri": "https://localhost:8080/"
    },
    "id": "B-VxgcbyYEvF",
    "outputId": "1c881383-f8a6-4fa8-e645-b6593ede58c0"
   },
   "outputs": [
    {
     "name": "stdout",
     "output_type": "stream",
     "text": [
      "              precision    recall  f1-score   support\n",
      "\n",
      "           1       0.82      0.71      0.76      1827\n",
      "           0       0.32      0.47      0.38       531\n",
      "\n",
      "    accuracy                           0.65      2358\n",
      "   macro avg       0.57      0.59      0.57      2358\n",
      "weighted avg       0.71      0.65      0.67      2358\n",
      "\n"
     ]
    }
   ],
   "source": [
    "from sklearn.metrics import classification_report,confusion_matrix,accuracy_score,f1_score\n",
    "print(classification_report(y_test, pred, target_names = ['1','0']))"
   ]
  }
 ],
 "metadata": {
  "accelerator": "GPU",
  "colab": {
   "collapsed_sections": [
    "6inA2y46ayU3"
   ],
   "provenance": []
  },
  "gpuClass": "premium",
  "kernelspec": {
   "display_name": "Python 3 (ipykernel)",
   "language": "python",
   "name": "python3"
  },
  "language_info": {
   "codemirror_mode": {
    "name": "ipython",
    "version": 3
   },
   "file_extension": ".py",
   "mimetype": "text/x-python",
   "name": "python",
   "nbconvert_exporter": "python",
   "pygments_lexer": "ipython3",
   "version": "3.10.2"
  }
 },
 "nbformat": 4,
 "nbformat_minor": 4
}
